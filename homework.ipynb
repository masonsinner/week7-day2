{
 "cells": [
  {
   "cell_type": "markdown",
   "id": "b49428f3",
   "metadata": {},
   "source": [
    "# Index for Intro JS Day 2"
   ]
  },
  {
   "cell_type": "markdown",
   "id": "743e6670",
   "metadata": {},
   "source": [
    "[Dates](#date)<br>\n",
    "[Switch Case](#switch)<br>\n",
    "[Objects](#object)<br>\n",
    "&emsp;[Deleting Keys](#del)<br>\n",
    "&emsp;[Exercise #1](#ice1)<br>\n",
    "&emsp;[Destructuring](#destruct)<br>\n",
    "&emsp;[Spread Operator (...)](#spread)<br>\n",
    "&emsp;[Rest Operator (...)](#rest)<br>\n",
    "&emsp;[Exercise #2](#ice2)<br>\n",
    "&emsp;[Optional Chaining (.?)](#chain)<br>\n",
    "&emsp;[Null Coalescing Operator (??)](#nco)<br>\n",
    "&emsp;[Object Equality](#objeq)<br>\n",
    "&emsp;[Testing Empty Objects](#emptyobj)<br>\n",
    "[For Loops with Objects](#loop)<br>\n",
    "&emsp;[Traditional Loop](#tradloop)<br>\n",
    "&emsp;[Exercise #3](#ice3)<br>\n",
    "&emsp;[for in Loop](#forin)<br>\n",
    "&emsp;[Exercise #4](#ice4)<br>\n",
    "[this keyword](#this)<br>\n",
    "[Checking Object/Array Type](#typecheck)<br>\n",
    "[ES5 Object Prototypes](#proto)<br>\n",
    "&emsp;[New Keyword](#new)<br>\n",
    "[Closures](#closure)<br>\n",
    "[Class keyword](#class)<br>\n",
    "&emsp;[Inheritance](#inherit)<br>\n",
    "&emsp;[Exercise #5](#ice5)<br>\n",
    "[JS and the Call Stack](#stack)<br>\n",
    "[Call Back Functions](#callback)<br>\n",
    "[Promises](#promise)<br>\n",
    "&emsp;[Async Await](#async)<br>\n",
    "&emsp;[Exercise #6](#ice6)<br>\n",
    "[Homework](#hw)<br>\n",
    "\n",
    "\n",
    "\n",
    "\n",
    "\n",
    "\n",
    "\n",
    "\n",
    "\n",
    "\n",
    "\n",
    "\n",
    "\n",
    "\n",
    "\n",
    "\n",
    "\n",
    "\n",
    "\n"
   ]
  },
  {
   "cell_type": "markdown",
   "id": "30beb35a",
   "metadata": {},
   "source": [
    "<a id=\"date\"></a>\n",
    "## Date Class"
   ]
  },
  {
   "cell_type": "markdown",
   "id": "42fe8af1",
   "metadata": {},
   "source": [
    "The Date Class in JS allows us to work with dates and retrieve the current time and date.\n",
    "\n",
    "Days of the week are represented as numbers, 0 being Sunday and 1 is for Monday and so on until you get to  6 for Saturday\n",
    "\n",
    "Dates are formatted using the Internation standard ISO 8601 [Year]-[Month]-[Day]T[Hours]:[Minutes]:[Seconds].[Milliseconds][Time Zone Modifier]\n",
    "\n",
    "Z is the modifier for UTC time"
   ]
  },
  {
   "cell_type": "code",
   "execution_count": 2,
   "id": "785f7c33",
   "metadata": {},
   "outputs": [
    {
     "name": "stdout",
     "output_type": "stream",
     "text": [
      "2023-03-02T15:19:43.491Z\n",
      "4\n"
     ]
    }
   ],
   "source": [
    "let today = new Date();\n",
    "console.log(today);\n",
    "let day = today.getDay();\n",
    "console.log(day);\n"
   ]
  },
  {
   "cell_type": "code",
   "execution_count": 3,
   "id": "6951bbbf",
   "metadata": {},
   "outputs": [
    {
     "name": "stdout",
     "output_type": "stream",
     "text": [
      "Thu Mar 02 2023 10:19:43 GMT-0500 (Eastern Standard Time)\n",
      "[\n",
      "  'Thu',      'Mar',\n",
      "  '02',       '2023',\n",
      "  '10:19:43', 'GMT-0500',\n",
      "  '(Eastern', 'Standard',\n",
      "  'Time)'\n",
      "]\n",
      "Thu\n"
     ]
    }
   ],
   "source": [
    "let literalDay=new Date().toString()\n",
    "console.log(literalDay)\n",
    "console.log(literalDay.split(' '))\n",
    "literalDay = literalDay.split(' ')[0]\n",
    "console.log(literalDay)"
   ]
  },
  {
   "cell_type": "markdown",
   "id": "3a94b0b8",
   "metadata": {},
   "source": [
    "Like The Days Months will also start at 0.  So Janurary is month 0 and December is month 11"
   ]
  },
  {
   "cell_type": "code",
   "execution_count": 4,
   "id": "d4cc8146",
   "metadata": {
    "scrolled": true
   },
   "outputs": [
    {
     "data": {
      "text/plain": [
       "2"
      ]
     },
     "execution_count": 4,
     "metadata": {},
     "output_type": "execute_result"
    }
   ],
   "source": [
    "today.getMonth()// Shows the numeric month of the year ()"
   ]
  },
  {
   "cell_type": "code",
   "execution_count": 5,
   "id": "3e3fd381",
   "metadata": {},
   "outputs": [
    {
     "data": {
      "text/plain": [
       "11"
      ]
     },
     "execution_count": 5,
     "metadata": {},
     "output_type": "execute_result"
    }
   ],
   "source": [
    "var dec_date = new Date(\"12/05/2021\")\n",
    "dec_date.getMonth()"
   ]
  },
  {
   "cell_type": "code",
   "execution_count": 6,
   "id": "60abe713",
   "metadata": {},
   "outputs": [
    {
     "data": {
      "text/plain": [
       "2"
      ]
     },
     "execution_count": 6,
     "metadata": {},
     "output_type": "execute_result"
    }
   ],
   "source": [
    "today.getDate() // Shows the numeric day of the month"
   ]
  },
  {
   "cell_type": "code",
   "execution_count": 7,
   "id": "5948944f",
   "metadata": {},
   "outputs": [
    {
     "data": {
      "text/plain": [
       "2023"
      ]
     },
     "execution_count": 7,
     "metadata": {},
     "output_type": "execute_result"
    }
   ],
   "source": [
    "today.getFullYear() // Shows the numeric year of the month"
   ]
  },
  {
   "cell_type": "code",
   "execution_count": 8,
   "id": "575adfea",
   "metadata": {},
   "outputs": [
    {
     "data": {
      "text/plain": [
       "10"
      ]
     },
     "execution_count": 8,
     "metadata": {},
     "output_type": "execute_result"
    }
   ],
   "source": [
    "today.getHours() // Shows the numeric hour of the day"
   ]
  },
  {
   "cell_type": "markdown",
   "id": "eae7a275",
   "metadata": {},
   "source": [
    "### Unix Time"
   ]
  },
  {
   "cell_type": "markdown",
   "id": "172aa929",
   "metadata": {},
   "source": [
    "In computing, we often want to represent time as an integer to make it easier to parse and use across many systems.  To do this, we use Unix Time.  Unix Time represents time as the number of seconds since January 1st, 1970, at 00:00:00 UTC.\n",
    "\n",
    "Some Date Methods give us Unix Time\n",
    "\n",
    "<strong>Note:</strong>  Similar to the issue that hit with Y2K, Unix Time also faces this problem in 2038 (Also known as the Year 2038 problem).  Because Unix time is stored as a signed 32-bit integer, we will run out of space to store dates past 2038.  BUT DON'T WORRY.  Most modern systems use an unsigned 64-bit integer to store the time, allowing Unix Time to run for 292 billion years."
   ]
  },
  {
   "cell_type": "code",
   "execution_count": 9,
   "id": "005b2aff",
   "metadata": {},
   "outputs": [
    {
     "data": {
      "text/plain": [
       "1677770383491"
      ]
     },
     "execution_count": 9,
     "metadata": {},
     "output_type": "execute_result"
    }
   ],
   "source": [
    "today.getTime()"
   ]
  },
  {
   "cell_type": "code",
   "execution_count": 10,
   "id": "54657ce0",
   "metadata": {
    "scrolled": true
   },
   "outputs": [
    {
     "data": {
      "text/plain": [
       "1677770383544"
      ]
     },
     "execution_count": 10,
     "metadata": {},
     "output_type": "execute_result"
    }
   ],
   "source": [
    "let unixNow=Date.now()\n",
    "unixNow"
   ]
  },
  {
   "cell_type": "markdown",
   "id": "b09826fd",
   "metadata": {},
   "source": [
    "#### Convert to ISO Time"
   ]
  },
  {
   "cell_type": "code",
   "execution_count": 11,
   "id": "014168e7",
   "metadata": {
    "scrolled": true
   },
   "outputs": [
    {
     "data": {
      "text/plain": [
       "'2023-03-02T15:19:43.544Z'"
      ]
     },
     "execution_count": 11,
     "metadata": {},
     "output_type": "execute_result"
    }
   ],
   "source": [
    "new Date(unixNow).toISOString()"
   ]
  },
  {
   "cell_type": "markdown",
   "id": "d8d2fe02",
   "metadata": {},
   "source": [
    "<a id=\"switch\"></a>\n",
    "## Switch Case Statement"
   ]
  },
  {
   "cell_type": "markdown",
   "id": "a0230ea3",
   "metadata": {},
   "source": [
    "The Switch Case Statement allows us to replace long if/else chains with more readable code. It provides the additional benefit of allowing fall-through cases.\n",
    "\n",
    "However, it will only check for strict equality(===), so we cannot use greater than or less than in a switch.  Also, \"1\" and 1 will not evaluate as the same case because it implements strict equality.\n",
    "\n",
    "Syntax:\n",
    "```\n",
    "switch(variable_to_compare_to){\n",
    "    case [Value to test equality on]:\n",
    "        // do stuff\n",
    "        //optional break/return\n",
    "    default:\n",
    "        // basically the else statement, what to do if none of the cases match\n",
    "        //do stuff\n",
    "}\n",
    "```"
   ]
  },
  {
   "cell_type": "markdown",
   "id": "ffcf80c0",
   "metadata": {},
   "source": [
    "<strong>Note: </strong> In this example we are comparing day (integer of the day from the Date function) to the number 0-6 and executing a console.log for every different day.  Also note, we are breaking after every case to prevent fall-through."
   ]
  },
  {
   "cell_type": "code",
   "execution_count": 12,
   "id": "8360eca2",
   "metadata": {},
   "outputs": [
    {
     "name": "stdout",
     "output_type": "stream",
     "text": [
      "Write a feature for our app on Thursday\n"
     ]
    }
   ],
   "source": [
    "switch(day){\n",
    "    case 0:\n",
    "        console.log('Go To Church');\n",
    "        break;\n",
    "    case 1:\n",
    "        console.log(\"Write Code... its Monday Madness\");\n",
    "        break;\n",
    "    case 2:\n",
    "        console.log(\"Testing Tuesday so go Test some code\")\n",
    "        break;\n",
    "    case 3: \n",
    "        console.log(\"Testing more code because its HUMppp Dayy!!!!\")\n",
    "        break;\n",
    "    case 4:\n",
    "        console.log(\"Write a feature for our app on Thursday\")\n",
    "        break;\n",
    "    case 5:\n",
    "        console.log(\"Test Feature for Feature Friday!\")\n",
    "        break;\n",
    "    case 6:\n",
    "        console.log(\"Sleeep all day\")\n",
    "        break;\n",
    "    default:\n",
    "        console.log('You are making up days!')\n",
    "}"
   ]
  },
  {
   "cell_type": "markdown",
   "id": "3847fbf4",
   "metadata": {},
   "source": [
    "This time we will run the switch on a String of the Day"
   ]
  },
  {
   "cell_type": "code",
   "execution_count": 13,
   "id": "1fcafcb6",
   "metadata": {},
   "outputs": [
    {
     "name": "stdout",
     "output_type": "stream",
     "text": [
      "Write a feature for our app on Thursday\n"
     ]
    }
   ],
   "source": [
    "switch(literalDay){\n",
    "    case 'Sun':\n",
    "        console.log('Go To Church');\n",
    "        break;\n",
    "    case 'Mon':\n",
    "        console.log(\"Write Code... its Monday Madness\");\n",
    "        break;\n",
    "    case 'Tue':\n",
    "        console.log(\"Testing Tuesday so go Test some code\")\n",
    "        break;\n",
    "    case 'Wed': \n",
    "        console.log(\"Testing more code because its HUMppp Dayy!!!!\")\n",
    "        break;\n",
    "    case 'Thu':\n",
    "        console.log(\"Write a feature for our app on Thursday\")\n",
    "        break;\n",
    "    case 'Fri':\n",
    "        console.log(\"Test Feature for Feature Friday!\")\n",
    "        break;\n",
    "    case 'Sat':\n",
    "        console.log(\"Sleeep all day\")\n",
    "        break;\n",
    "    default:\n",
    "        console.log('You are making up days!')\n",
    "}"
   ]
  },
  {
   "cell_type": "markdown",
   "id": "8292710a",
   "metadata": {},
   "source": [
    "### Fall Through Conditions"
   ]
  },
  {
   "cell_type": "markdown",
   "id": "ca7b3965",
   "metadata": {},
   "source": [
    "In the previous examples, we used a break statement in every case (default excluded because there is no fall-through conditions for default).\n",
    "\n",
    "If we do not include the break, the condition will fall-through to the next case and execute that code as well."
   ]
  },
  {
   "cell_type": "code",
   "execution_count": 14,
   "id": "b092e271",
   "metadata": {},
   "outputs": [
    {
     "name": "stdout",
     "output_type": "stream",
     "text": [
      "You did pretty well on the assignments\n",
      "You did complete some homework\n",
      "You did attend some classes\n",
      "You are a member of the class\n",
      "You enrolled in the course\n"
     ]
    }
   ],
   "source": [
    "let myGrade = 'B'\n",
    "switch(myGrade){\n",
    "    case 'A':\n",
    "        console.log('You did Awesome')\n",
    "    case 'B':\n",
    "        console.log('You did pretty well on the assignments')\n",
    "    case 'C':\n",
    "        console.log('You did complete some homework')\n",
    "    case 'D':\n",
    "        console.log('You did attend some classes')\n",
    "    case 'F':\n",
    "        console.log('You are a member of the class')\n",
    "    default:\n",
    "        console.log('You enrolled in the course')\n",
    "}\n",
    "\n"
   ]
  },
  {
   "cell_type": "markdown",
   "id": "b9c1c6d4",
   "metadata": {},
   "source": [
    "<a id=\"object\"></a>\n",
    "\n",
    "## Object Type"
   ]
  },
  {
   "cell_type": "markdown",
   "id": "88a9aac2",
   "metadata": {},
   "source": [
    "A JavaScript Object is similar to a Python Dictionary.\n",
    "They both store key-value pairs and support dynamically adding keys and removing keys."
   ]
  },
  {
   "cell_type": "markdown",
   "id": "629a1e01",
   "metadata": {},
   "source": [
    "### Instantiating"
   ]
  },
  {
   "cell_type": "markdown",
   "id": "6e4d559a",
   "metadata": {},
   "source": [
    "Keys in JS don't need to surround the keys with quotes, however you can."
   ]
  },
  {
   "cell_type": "code",
   "execution_count": 15,
   "id": "6997e32f",
   "metadata": {},
   "outputs": [
    {
     "name": "stdout",
     "output_type": "stream",
     "text": [
      "{ name: 'Jody', age: 95, favColor: 'blue' }\n"
     ]
    }
   ],
   "source": [
    "let jody = {\n",
    "    \"name\":\"Jody\",\n",
    "    \"age\": 95,\n",
    "    \"favColor\":\"blue\",\n",
    "}\n",
    "//or it could also be written\n",
    "jody = {\n",
    "    name:\"Jody\",\n",
    "    age: 95,\n",
    "    favColor:\"blue\",\n",
    "}\n",
    "console.log(jody)\n"
   ]
  },
  {
   "cell_type": "markdown",
   "id": "beae2553",
   "metadata": {},
   "source": [
    "### console.table"
   ]
  },
  {
   "cell_type": "markdown",
   "id": "473cc913",
   "metadata": {},
   "source": [
    "Sometimes reading the properties of an object is difficult using console.log, so we can use console.table to see an easier to read result"
   ]
  },
  {
   "cell_type": "code",
   "execution_count": 16,
   "id": "e572d372",
   "metadata": {},
   "outputs": [
    {
     "name": "stdout",
     "output_type": "stream",
     "text": [
      "┌──────────┬────────┐\n",
      "│ (index)  │ Values │\n",
      "├──────────┼────────┤\n",
      "│   name   │ 'Jody' │\n",
      "│   age    │   95   │\n",
      "│ favColor │ 'blue' │\n",
      "└──────────┴────────┘\n"
     ]
    }
   ],
   "source": [
    "console.table(jody)"
   ]
  },
  {
   "cell_type": "markdown",
   "id": "43bd5107",
   "metadata": {},
   "source": [
    "### Accessing"
   ]
  },
  {
   "cell_type": "markdown",
   "id": "91029344",
   "metadata": {},
   "source": [
    "JS Allows us to use bracket notation (like python) or dot notation (like python classes) to access our dictionaries"
   ]
  },
  {
   "cell_type": "code",
   "execution_count": 17,
   "id": "e331c695",
   "metadata": {},
   "outputs": [
    {
     "data": {
      "text/plain": [
       "95"
      ]
     },
     "execution_count": 17,
     "metadata": {},
     "output_type": "execute_result"
    }
   ],
   "source": [
    "//bracket notation\n",
    "jody['age']"
   ]
  },
  {
   "cell_type": "code",
   "execution_count": 18,
   "id": "a6227f40",
   "metadata": {
    "scrolled": true
   },
   "outputs": [
    {
     "data": {
      "text/plain": [
       "95"
      ]
     },
     "execution_count": 18,
     "metadata": {},
     "output_type": "execute_result"
    }
   ],
   "source": [
    "//dot notation\n",
    "jody.age"
   ]
  },
  {
   "cell_type": "markdown",
   "id": "5b6237da",
   "metadata": {},
   "source": [
    "<strong>Note: </strong>Using a key name stored in a variable requires us to use bracket notation."
   ]
  },
  {
   "cell_type": "code",
   "execution_count": 19,
   "id": "5771849c",
   "metadata": {
    "scrolled": true
   },
   "outputs": [
    {
     "data": {
      "text/plain": [
       "95"
      ]
     },
     "execution_count": 19,
     "metadata": {},
     "output_type": "execute_result"
    }
   ],
   "source": [
    "let testKey = 'age'\n",
    "jody[testKey]"
   ]
  },
  {
   "cell_type": "code",
   "execution_count": 20,
   "id": "15a0fb06",
   "metadata": {},
   "outputs": [
    {
     "name": "stdout",
     "output_type": "stream",
     "text": [
      "undefined\n"
     ]
    }
   ],
   "source": [
    "//Looks for a key of Test Key doesn't find one so return undefinde\n",
    "console.log(jody.testKey) "
   ]
  },
  {
   "cell_type": "markdown",
   "id": "6fcf009a",
   "metadata": {},
   "source": [
    "In JS, you can easily add keys to an object just by referencing the dictionary, keying in your new key and setting it to a value"
   ]
  },
  {
   "cell_type": "code",
   "execution_count": 21,
   "id": "559cc83f",
   "metadata": {},
   "outputs": [
    {
     "name": "stdout",
     "output_type": "stream",
     "text": [
      "┌─────────────┬────────┐\n",
      "│   (index)   │ Values │\n",
      "├─────────────┼────────┤\n",
      "│    name     │ 'Jody' │\n",
      "│     age     │   95   │\n",
      "│  favColor   │ 'blue' │\n",
      "│ isGoodCoder │ false  │\n",
      "└─────────────┴────────┘\n",
      "Send Jody to Coding Camp\n",
      "┌─────────────┬────────┐\n",
      "│   (index)   │ Values │\n",
      "├─────────────┼────────┤\n",
      "│    name     │ 'Jody' │\n",
      "│     age     │   95   │\n",
      "│  favColor   │ 'blue' │\n",
      "│ isGoodCoder │  true  │\n",
      "└─────────────┴────────┘\n"
     ]
    }
   ],
   "source": [
    "jody.isGoodCoder=false\n",
    "console.table(jody)\n",
    "console.log(\"Send Jody to Coding Camp\")\n",
    "jody.isGoodCoder=true\n",
    "console.table(jody)"
   ]
  },
  {
   "cell_type": "markdown",
   "id": "d93a01c6",
   "metadata": {},
   "source": [
    "<a id=\"delkey\"></a>\n",
    "### Deleting keys"
   ]
  },
  {
   "cell_type": "code",
   "execution_count": 22,
   "id": "d5b71e72",
   "metadata": {
    "scrolled": true
   },
   "outputs": [
    {
     "name": "stdout",
     "output_type": "stream",
     "text": [
      "┌─────────────┬────────────────┐\n",
      "│   (index)   │     Values     │\n",
      "├─────────────┼────────────────┤\n",
      "│    name     │     'Jody'     │\n",
      "│     age     │       95       │\n",
      "│  favColor   │     'blue'     │\n",
      "│ isGoodCoder │      true      │\n",
      "│  myNewKey   │ 'Dirty Blonde' │\n",
      "└─────────────┴────────────────┘\n"
     ]
    }
   ],
   "source": [
    "let myNewKey=\"hairColor\"\n",
    "jody.myNewKey='Dirty Blonde' // NOOO\n",
    "console.table(jody)"
   ]
  },
  {
   "cell_type": "code",
   "execution_count": 23,
   "id": "edb0d9ae",
   "metadata": {
    "scrolled": true
   },
   "outputs": [
    {
     "name": "stdout",
     "output_type": "stream",
     "text": [
      "┌─────────────┬────────┐\n",
      "│   (index)   │ Values │\n",
      "├─────────────┼────────┤\n",
      "│    name     │ 'Jody' │\n",
      "│     age     │   95   │\n",
      "│  favColor   │ 'blue' │\n",
      "│ isGoodCoder │  true  │\n",
      "└─────────────┴────────┘\n"
     ]
    }
   ],
   "source": [
    "delete jody['myNewKey']\n",
    "console.table(jody)"
   ]
  },
  {
   "cell_type": "code",
   "execution_count": 24,
   "id": "70581cfb",
   "metadata": {},
   "outputs": [
    {
     "name": "stdout",
     "output_type": "stream",
     "text": [
      "┌─────────────┬────────────────┐\n",
      "│   (index)   │     Values     │\n",
      "├─────────────┼────────────────┤\n",
      "│    name     │     'Jody'     │\n",
      "│     age     │       95       │\n",
      "│  favColor   │     'blue'     │\n",
      "│ isGoodCoder │      true      │\n",
      "│  hairColor  │ 'Dirty Blonde' │\n",
      "└─────────────┴────────────────┘\n"
     ]
    }
   ],
   "source": [
    "jody[myNewKey]='Dirty Blonde'\n",
    "console.table(jody)"
   ]
  },
  {
   "cell_type": "markdown",
   "id": "674594c6",
   "metadata": {},
   "source": [
    "<a id=\"ice1\"></a>\n",
    "\n",
    "### In Class Exercise #1"
   ]
  },
  {
   "cell_type": "code",
   "execution_count": 2,
   "id": "cc5c2062",
   "metadata": {},
   "outputs": [],
   "source": [
    "let person2 = {\n",
    "    name: \"Max\",\n",
    "    age:31,\n",
    "    progLanguages:['JavaScript','Python','C++', 'Java'],\n",
    "    favColor: \"Blue\",\n",
    "    teams:[\n",
    "        {\n",
    "            baseball: 'Chicago White Sox',\n",
    "            football: 'Chicago Bears',\n",
    "            hockey: 'Chicago Blackhawks',\n",
    "            basketball:['Chicago Bulls','Chicago Sky'],\n",
    "            soccer:['Chicago Fire', 'Naperville Yellowjacks']\n",
    "        },\n",
    "        {\n",
    "            baseball:'Toronto Bluejays',\n",
    "            football: 'LA Rams',\n",
    "            basketball: 'Milwalkee Bucks',\n",
    "            soccer: ['Manchester United','Liverpool']\n",
    "        }\n",
    "    ]\n",
    "}"
   ]
  },
  {
   "cell_type": "code",
   "execution_count": 3,
   "id": "dd58fd8a",
   "metadata": {},
   "outputs": [
    {
     "name": "stdout",
     "output_type": "stream",
     "text": [
      "┌───────────────┬──────────────┬──────────┬───────┬────────┬────────┐\n",
      "│    (index)    │      0       │    1     │   2   │   3    │ Values │\n",
      "├───────────────┼──────────────┼──────────┼───────┼────────┼────────┤\n",
      "│     name      │              │          │       │        │ 'Max'  │\n",
      "│      age      │              │          │       │        │   31   │\n",
      "│ progLanguages │ 'JavaScript' │ 'Python' │ 'C++' │ 'Java' │        │\n",
      "│   favColor    │              │          │       │        │ 'Blue' │\n",
      "│     teams     │   [Object]   │ [Object] │       │        │        │\n",
      "└───────────────┴──────────────┴──────────┴───────┴────────┴────────┘\n"
     ]
    }
   ],
   "source": [
    "console.table(person2)"
   ]
  },
  {
   "cell_type": "code",
   "execution_count": 6,
   "id": "86600243",
   "metadata": {},
   "outputs": [
    {
     "name": "stdout",
     "output_type": "stream",
     "text": [
      "Max\n",
      "undefined\n"
     ]
    }
   ],
   "source": [
    "console.log(person2.name)\n",
    "console.log(person2[2])"
   ]
  },
  {
   "cell_type": "markdown",
   "id": "769a63cd",
   "metadata": {},
   "source": [
    "Using the above dictionary print out the following values in the cell underneath the heading."
   ]
  },
  {
   "cell_type": "markdown",
   "id": "cabe15cc",
   "metadata": {},
   "source": [
    "##### a) \"Blue\""
   ]
  },
  {
   "cell_type": "code",
   "execution_count": 7,
   "id": "def3c151",
   "metadata": {},
   "outputs": [
    {
     "name": "stdout",
     "output_type": "stream",
     "text": [
      "Blue\n"
     ]
    }
   ],
   "source": [
    "console.log(person2.favColor)"
   ]
  },
  {
   "cell_type": "markdown",
   "id": "566376de",
   "metadata": {},
   "source": [
    "##### b) \"C++\""
   ]
  },
  {
   "cell_type": "code",
   "execution_count": 13,
   "id": "b8c88a0c",
   "metadata": {},
   "outputs": [
    {
     "name": "stdout",
     "output_type": "stream",
     "text": [
      "C++\n"
     ]
    }
   ],
   "source": [
    "console.log(person2.progLanguages[2])"
   ]
  },
  {
   "cell_type": "markdown",
   "id": "e893f1fa",
   "metadata": {},
   "source": [
    "##### c) \"LA Rams\""
   ]
  },
  {
   "cell_type": "code",
   "execution_count": 20,
   "id": "ff4babbd",
   "metadata": {},
   "outputs": [
    {
     "name": "stdout",
     "output_type": "stream",
     "text": [
      "LA Rams\n"
     ]
    }
   ],
   "source": [
    "console.log(person2.teams[1].football)"
   ]
  },
  {
   "cell_type": "markdown",
   "id": "f8b65dfe",
   "metadata": {},
   "source": [
    "##### d) \"Chicago Fire\""
   ]
  },
  {
   "cell_type": "code",
   "execution_count": 21,
   "id": "b0864e27",
   "metadata": {},
   "outputs": [
    {
     "name": "stdout",
     "output_type": "stream",
     "text": [
      "Chicago Fire\n"
     ]
    }
   ],
   "source": [
    "console.log(person2.teams[0].soccer[0])"
   ]
  },
  {
   "cell_type": "markdown",
   "id": "ea1e9486",
   "metadata": {},
   "source": [
    "##### e) \"Liverpool\""
   ]
  },
  {
   "cell_type": "code",
   "execution_count": 22,
   "id": "de7bd75d",
   "metadata": {},
   "outputs": [
    {
     "name": "stdout",
     "output_type": "stream",
     "text": [
      "Liverpool\n"
     ]
    }
   ],
   "source": [
    "console.log(person2.teams[1].soccer[1])"
   ]
  },
  {
   "cell_type": "markdown",
   "id": "70feac34",
   "metadata": {},
   "source": [
    "<a id=\"destruct\"></a>\n",
    "\n",
    "### Object Destructuring\n",
    "\n",
    "This is a very important topic because it is widely used, and in most applications, considered best practice.\n",
    "\n",
    "This will allow us to break the keys of a dictionary up into variables when passing to a function"
   ]
  },
  {
   "cell_type": "code",
   "execution_count": 26,
   "id": "2450acab",
   "metadata": {},
   "outputs": [],
   "source": [
    "let shoe={\n",
    "    nam:'Red Nike',\n",
    "    size:11,\n",
    "    color:'red'\n",
    "}"
   ]
  },
  {
   "cell_type": "markdown",
   "id": "b057608f",
   "metadata": {},
   "source": [
    "#### As Variables"
   ]
  },
  {
   "cell_type": "markdown",
   "id": "163c32cb",
   "metadata": {},
   "source": [
    "<strong>Note: </strong> the variable names must match the names of the keys in the object."
   ]
  },
  {
   "cell_type": "code",
   "execution_count": 27,
   "id": "e9d4f3a7",
   "metadata": {},
   "outputs": [
    {
     "name": "stdout",
     "output_type": "stream",
     "text": [
      "Red Nike\n",
      "11\n",
      "red\n"
     ]
    }
   ],
   "source": [
    "const {nam, size, color} = shoe\n",
    "console.log(nam)\n",
    "console.log(size)\n",
    "console.log(color)"
   ]
  },
  {
   "cell_type": "markdown",
   "id": "9bdcc7b7",
   "metadata": {},
   "source": [
    "#### As parameters"
   ]
  },
  {
   "cell_type": "markdown",
   "id": "e988dbda",
   "metadata": {},
   "source": [
    "First, let's remember how this would work when passing an array"
   ]
  },
  {
   "cell_type": "code",
   "execution_count": 28,
   "id": "8558aee9",
   "metadata": {},
   "outputs": [
    {
     "name": "stdout",
     "output_type": "stream",
     "text": [
      "1 2 3\n"
     ]
    }
   ],
   "source": [
    "\n",
    "let listA=[1,2,3]\n",
    "const test3=([a,b,c])=>{\n",
    "    console.log(a,b,c)\n",
    "}\n",
    "test3(listA)\n"
   ]
  },
  {
   "cell_type": "markdown",
   "id": "0641ecae",
   "metadata": {},
   "source": [
    "<b>Now, let's see how this looks with an object without destructuring</b>"
   ]
  },
  {
   "cell_type": "code",
   "execution_count": 29,
   "id": "8710136b",
   "metadata": {},
   "outputs": [],
   "source": [
    "//Without destructuring\n",
    "const test=myObj=>{\n",
    "    console.log(myObj.nam)\n",
    "    console.log(myObj.size)\n",
    "    console.log(myObj.color)\n",
    "}"
   ]
  },
  {
   "cell_type": "code",
   "execution_count": 30,
   "id": "a61c69f3",
   "metadata": {
    "scrolled": true
   },
   "outputs": [
    {
     "name": "stdout",
     "output_type": "stream",
     "text": [
      "Red Nike\n",
      "11\n",
      "red\n"
     ]
    }
   ],
   "source": [
    "test(shoe)"
   ]
  },
  {
   "cell_type": "markdown",
   "id": "0ff839bf",
   "metadata": {},
   "source": [
    "<b>and with destructuring </b>"
   ]
  },
  {
   "cell_type": "code",
   "execution_count": 31,
   "id": "5a72c275",
   "metadata": {},
   "outputs": [
    {
     "name": "stdout",
     "output_type": "stream",
     "text": [
      "Red Nike\n",
      "11\n",
      "red\n"
     ]
    }
   ],
   "source": [
    "//With Destructuring \n",
    "const test1 = ({nam, size, color}) =>{\n",
    "    console.log(nam)\n",
    "    console.log(size)\n",
    "    console.log(color)\n",
    "}\n",
    "test1(shoe)\n"
   ]
  },
  {
   "cell_type": "markdown",
   "id": "3e614632",
   "metadata": {},
   "source": [
    "#### Mixing destructuring with other parameters"
   ]
  },
  {
   "cell_type": "code",
   "execution_count": 32,
   "id": "93ba8d77",
   "metadata": {},
   "outputs": [],
   "source": [
    "let person={\n",
    "    firstName:\"Russel\",\n",
    "    lastName:\"Jones\",\n",
    "    nickName:\"Ol' Dirty Illegitimate Child\",\n",
    "    age: 35,\n",
    "    height:62\n",
    "}\n",
    "\n",
    "let quote = `Here I go, deep type flow, Jackques Costueau could never get this low.`\n"
   ]
  },
  {
   "cell_type": "code",
   "execution_count": 33,
   "id": "4231e3bb",
   "metadata": {
    "scrolled": true
   },
   "outputs": [
    {
     "name": "stdout",
     "output_type": "stream",
     "text": [
      "Here I go, deep type flow, Jackques Costueau could never get this low.\n",
      "Russel\n",
      "Ol' Dirty Illegitimate Child\n",
      "35\n"
     ]
    }
   ],
   "source": [
    "const myPersonFunction=(quote, {firstName, lastName, nickName, age, height})=>{\n",
    "    console.log(quote)\n",
    "    console.log(firstName)\n",
    "    console.log(nickName)\n",
    "    console.log(age)\n",
    "}\n",
    "\n",
    "myPersonFunction(quote, person)"
   ]
  },
  {
   "cell_type": "markdown",
   "id": "b1499ae0",
   "metadata": {},
   "source": [
    "<a id=\"spread\"></a>\n",
    "\n",
    "#### The Spread Operator"
   ]
  },
  {
   "cell_type": "markdown",
   "id": "c55a2f62",
   "metadata": {},
   "source": [
    "The spread operator can be used to copy an object, combine multiple objects, or even to add a new key while copying an object"
   ]
  },
  {
   "cell_type": "markdown",
   "id": "0133d1d3",
   "metadata": {},
   "source": [
    "#### Copying"
   ]
  },
  {
   "cell_type": "code",
   "execution_count": 34,
   "id": "aef9a38a",
   "metadata": {},
   "outputs": [
    {
     "name": "stdout",
     "output_type": "stream",
     "text": [
      "┌───────────┬────────────────────────────────┐\n",
      "│  (index)  │             Values             │\n",
      "├───────────┼────────────────────────────────┤\n",
      "│ firstName │            'Russel'            │\n",
      "│ lastName  │            'Jones'             │\n",
      "│ nickName  │ \"Ol' Dirty Illegitimate Child\" │\n",
      "│    age    │               35               │\n",
      "│  height   │               62               │\n",
      "└───────────┴────────────────────────────────┘\n"
     ]
    }
   ],
   "source": [
    "let newObject = {...person}\n",
    "console.table(newObject)"
   ]
  },
  {
   "cell_type": "markdown",
   "id": "80137893",
   "metadata": {},
   "source": [
    "#### Adding a key while copying"
   ]
  },
  {
   "cell_type": "code",
   "execution_count": 35,
   "id": "d533b744",
   "metadata": {},
   "outputs": [
    {
     "name": "stdout",
     "output_type": "stream",
     "text": [
      "┌───────────┬────────────────────────────────┐\n",
      "│  (index)  │             Values             │\n",
      "├───────────┼────────────────────────────────┤\n",
      "│ firstName │            'Russel'            │\n",
      "│ lastName  │            'Jones'             │\n",
      "│ nickName  │ \"Ol' Dirty Illegitimate Child\" │\n",
      "│    age    │               35               │\n",
      "│  height   │               62               │\n",
      "│    id     │              187               │\n",
      "└───────────┴────────────────────────────────┘\n"
     ]
    }
   ],
   "source": [
    "//add an id of 187 to the person object and save it as a new object called newPerson\n",
    "let newPerson = {...person, id:187}\n",
    "console.table(newPerson)"
   ]
  },
  {
   "cell_type": "markdown",
   "id": "ae337d3b",
   "metadata": {},
   "source": [
    "#### Combining"
   ]
  },
  {
   "cell_type": "code",
   "execution_count": 36,
   "id": "3fb9d55e",
   "metadata": {},
   "outputs": [],
   "source": [
    "let objectA={id:4, name:\"Item A\", price: 5.99}\n",
    "let objectB={price:10.99, desc:\"Great New Item\"}"
   ]
  },
  {
   "cell_type": "markdown",
   "id": "e6f19647",
   "metadata": {},
   "source": [
    "<strong>Note: </strong> Both Objects have a key of price, Let's see which price gets added to the new object"
   ]
  },
  {
   "cell_type": "code",
   "execution_count": 37,
   "id": "3b43a020",
   "metadata": {},
   "outputs": [
    {
     "name": "stdout",
     "output_type": "stream",
     "text": [
      "┌─────────┬──────────────────┐\n",
      "│ (index) │      Values      │\n",
      "├─────────┼──────────────────┤\n",
      "│   id    │        4         │\n",
      "│  name   │     'Item A'     │\n",
      "│  price  │      10.99       │\n",
      "│  desc   │ 'Great New Item' │\n",
      "└─────────┴──────────────────┘\n"
     ]
    }
   ],
   "source": [
    "let objectAB = {...objectA, ...objectB}\n",
    "console.table(objectAB)"
   ]
  },
  {
   "cell_type": "code",
   "execution_count": 38,
   "id": "534aa8e4",
   "metadata": {},
   "outputs": [
    {
     "name": "stdout",
     "output_type": "stream",
     "text": [
      "┌─────────┬──────────────────┐\n",
      "│ (index) │      Values      │\n",
      "├─────────┼──────────────────┤\n",
      "│  price  │       5.99       │\n",
      "│  desc   │ 'Great New Item' │\n",
      "│   id    │        4         │\n",
      "│  name   │     'Item A'     │\n",
      "└─────────┴──────────────────┘\n"
     ]
    }
   ],
   "source": [
    "let objectBA = {...objectB, ...objectA}\n",
    "console.table(objectBA)"
   ]
  },
  {
   "cell_type": "markdown",
   "id": "1fb7014a",
   "metadata": {},
   "source": [
    "<a id=\"rest\"></a>\n",
    "\n",
    "### Rest Operator"
   ]
  },
  {
   "cell_type": "markdown",
   "id": "a3352ac6",
   "metadata": {},
   "source": [
    "Just like with arrays sometimes you only want to destructure part of your object, you can do this with the rest `...` operator"
   ]
  },
  {
   "cell_type": "code",
   "execution_count": 39,
   "id": "17d6111f",
   "metadata": {},
   "outputs": [
    {
     "name": "stdout",
     "output_type": "stream",
     "text": [
      "test\n",
      "My Test\n",
      "┌─────────┬────────────────┐\n",
      "│ (index) │     Values     │\n",
      "├─────────┼────────────────┤\n",
      "│   id    │       1        │\n",
      "│ author  │ 'Stephen King' │\n",
      "└─────────┴────────────────┘\n"
     ]
    }
   ],
   "source": [
    "let restTestObj={\n",
    "    id:1,\n",
    "    title: \"test\",\n",
    "    body: \"My Test\",\n",
    "    author: \"Stephen King\"\n",
    "}\n",
    "\n",
    "function testingRest({title, body, ...leftOvers}){\n",
    "    console.log(title)\n",
    "    console.log(body)\n",
    "    console.table(leftOvers)\n",
    "}\n",
    "\n",
    "testingRest(restTestObj)"
   ]
  },
  {
   "cell_type": "markdown",
   "id": "c2e83bc1",
   "metadata": {},
   "source": [
    "<a id=\"ice2\"></a>\n",
    "\n",
    "### In Class Assignment #2"
   ]
  },
  {
   "cell_type": "markdown",
   "id": "9630dc92",
   "metadata": {},
   "source": [
    "Create a function called `destructed` that recieves the `destructMe` dictionary using destructuring. Destruct the title body and author and leave the rest of the attributes in a parameter called `others`.\n",
    "Print out the title, body, and author to the console. Then print the entire contents of `others` to the console."
   ]
  },
  {
   "cell_type": "code",
   "execution_count": 40,
   "id": "9e4b3028",
   "metadata": {},
   "outputs": [],
   "source": [
    "var destructMe={\n",
    "    title: \"Intro to JavaScript\",\n",
    "    body: \"I really wish JavaScript had static type checking\",\n",
    "    createdOn: new Date(),\n",
    "    author: \"Kevin Beier\",\n",
    "    topic: \"Programming\",\n",
    "    tags: [\"JS\", \"Async\", \"Dynamic Types\"]\n",
    "}"
   ]
  },
  {
   "cell_type": "code",
   "execution_count": 41,
   "id": "7fb46ba2",
   "metadata": {},
   "outputs": [],
   "source": [
    "//Solution\n",
    "\n"
   ]
  },
  {
   "cell_type": "markdown",
   "id": "eede8031",
   "metadata": {},
   "source": [
    "<a id=\"chain\"></a>\n",
    "\n",
    "### Optional Chaining"
   ]
  },
  {
   "cell_type": "markdown",
   "id": "ff7db122",
   "metadata": {},
   "source": [
    "Imagine you have many of the same object, and you want to key into it.  Now imagine not all objects have that key, and you want to do an operation on every object without getting an error.  Welcome in optional chaining using the `?.`"
   ]
  },
  {
   "cell_type": "code",
   "execution_count": 42,
   "id": "4bf85372",
   "metadata": {},
   "outputs": [],
   "source": [
    "let bigObject1={\n",
    "    name:\"Jack\",\n",
    "    friends: [\"Johnnie\", \"Jose\", \"Jim\"]\n",
    "}\n",
    "\n",
    "let bigObject2={\n",
    "    name:\"Kylie Jenner\"\n",
    "}"
   ]
  },
  {
   "cell_type": "code",
   "execution_count": 43,
   "id": "e70de169",
   "metadata": {},
   "outputs": [
    {
     "name": "stdout",
     "output_type": "stream",
     "text": [
      "┌─────────┬───────────┬────────┬───────┬────────┬────────┐\n",
      "│ (index) │     0     │   1    │   2   │   3    │ Values │\n",
      "├─────────┼───────────┼────────┼───────┼────────┼────────┤\n",
      "│  name   │           │        │       │        │ 'Jack' │\n",
      "│ friends │ 'Johnnie' │ 'Jose' │ 'Jim' │ 'John' │        │\n",
      "└─────────┴───────────┴────────┴───────┴────────┴────────┘\n"
     ]
    }
   ],
   "source": [
    "bigObject1.friends.push(\"John\")\n",
    "\n",
    "console.table(bigObject1)"
   ]
  },
  {
   "cell_type": "code",
   "execution_count": 44,
   "id": "022c6873",
   "metadata": {},
   "outputs": [
    {
     "ename": "TypeError",
     "evalue": "Cannot read properties of undefined (reading 'push')",
     "output_type": "error",
     "traceback": [
      "evalmachine.<anonymous>:1",
      "bigObject2.friends.push('anyone') //Error",
      "                   ^",
      "",
      "TypeError: Cannot read properties of undefined (reading 'push')",
      "    at evalmachine.<anonymous>:1:20",
      "    at Script.runInThisContext (node:vm:129:12)",
      "    at Object.runInThisContext (node:vm:313:38)",
      "    at run ([eval]:1020:15)",
      "    at onRunRequest ([eval]:864:18)",
      "    at onMessage ([eval]:828:13)",
      "    at process.emit (node:events:513:28)",
      "    at emit (node:internal/child_process:937:14)",
      "    at process.processTicksAndRejections (node:internal/process/task_queues:83:21)"
     ]
    }
   ],
   "source": [
    "bigObject2.friends.push('anyone') //Error"
   ]
  },
  {
   "cell_type": "code",
   "execution_count": 45,
   "id": "340f9b47",
   "metadata": {},
   "outputs": [
    {
     "name": "stdout",
     "output_type": "stream",
     "text": [
      "┌─────────┬────────────────┐\n",
      "│ (index) │     Values     │\n",
      "├─────────┼────────────────┤\n",
      "│  name   │ 'Kylie Jenner' │\n",
      "└─────────┴────────────────┘\n"
     ]
    }
   ],
   "source": [
    "bigObject2.friends?.push('anyone')\n",
    "console.table(bigObject2)"
   ]
  },
  {
   "cell_type": "code",
   "execution_count": 46,
   "id": "06c86d99",
   "metadata": {
    "scrolled": true
   },
   "outputs": [
    {
     "name": "stdout",
     "output_type": "stream",
     "text": [
      "┌─────────┬────────────────┬────────────────────────────────────────────────┐\n",
      "│ (index) │      name      │                    friends                     │\n",
      "├─────────┼────────────────┼────────────────────────────────────────────────┤\n",
      "│    0    │     'Jack'     │ [ 'Johnnie', 'Jose', 'Jim', ... 2 more items ] │\n",
      "│    1    │ 'Kylie Jenner' │                                                │\n",
      "│    2    │   'Chandler'   │ [ 'Monica', 'Ross', 'Joey', ... 2 more items ] │\n",
      "└─────────┴────────────────┴────────────────────────────────────────────────┘\n"
     ]
    }
   ],
   "source": [
    "bigObjectArray= [\n",
    "                bigObject1, \n",
    "                bigObject2, \n",
    "                {name:\"Chandler\", friends:[\"Monica\",\"Ross\",\"Joey\",\"Rachel\"]}\n",
    "                ]\n",
    "for (let testPerson of bigObjectArray){\n",
    "    testPerson.friends?.push('Coding Buddah')\n",
    "}\n",
    "\n",
    "console.table(bigObjectArray)"
   ]
  },
  {
   "cell_type": "markdown",
   "id": "9d2712b8",
   "metadata": {},
   "source": [
    "<a id=\"nco\"></a>\n",
    "\n",
    "### Nullish Coalescing Operator (??)"
   ]
  },
  {
   "cell_type": "markdown",
   "id": "0d2088ff",
   "metadata": {},
   "source": [
    "Often times we want to check the value of something and if it is undefined or null, we want to use a default value instead. The Nullish Coalescing Operator `??` allows just that."
   ]
  },
  {
   "cell_type": "code",
   "execution_count": 47,
   "id": "50c62d20",
   "metadata": {},
   "outputs": [
    {
     "name": "stdout",
     "output_type": "stream",
     "text": [
      "[ 'Johnnie', 'Jose', 'Jim', 'John', 'Coding Buddah' ]\n",
      "has no friends\n",
      "has no friends\n"
     ]
    }
   ],
   "source": [
    "console.log(bigObject1.friends ?? \"has no friends\")\n",
    "console.log(bigObject2.friends ?? \"has no friends\")\n",
    "console.log(null ?? \"has no friends\")"
   ]
  },
  {
   "cell_type": "markdown",
   "id": "468cc379",
   "metadata": {},
   "source": [
    "<b>It can be combined with optional chaining</b>"
   ]
  },
  {
   "cell_type": "code",
   "execution_count": 48,
   "id": "6e65f06b",
   "metadata": {
    "scrolled": true
   },
   "outputs": [
    {
     "name": "stdout",
     "output_type": "stream",
     "text": [
      "Jack : Johnnie\n",
      "Kylie Jenner : Has no Friends\n",
      "Chandler : Monica\n"
     ]
    }
   ],
   "source": [
    "// Lets find the first friend of our people\n",
    "for (let testPerson of bigObjectArray){\n",
    "    console.log(testPerson.name, ':', testPerson?.friends?.[0] ?? \"Has no Friends\" )\n",
    "}"
   ]
  },
  {
   "cell_type": "markdown",
   "id": "81761fe4",
   "metadata": {},
   "source": [
    "<a id=\"objeq\"></a>\n",
    "\n",
    "## Object Equality"
   ]
  },
  {
   "cell_type": "markdown",
   "id": "3c9a7cf5",
   "metadata": {},
   "source": [
    "Testing whether two object in JS are the same can be rather confusing.\n",
    "\n",
    "In JavaScript two Objects are considered equal if they point to the same spot in memory, not if the values are the same"
   ]
  },
  {
   "cell_type": "code",
   "execution_count": 49,
   "id": "db9ab7aa",
   "metadata": {},
   "outputs": [
    {
     "data": {
      "text/plain": [
       "false"
      ]
     },
     "execution_count": 49,
     "metadata": {},
     "output_type": "execute_result"
    }
   ],
   "source": [
    "Boolean({id:1} == {id:1})"
   ]
  },
  {
   "cell_type": "code",
   "execution_count": 50,
   "id": "906f204d",
   "metadata": {},
   "outputs": [
    {
     "data": {
      "text/plain": [
       "false"
      ]
     },
     "execution_count": 50,
     "metadata": {},
     "output_type": "execute_result"
    }
   ],
   "source": [
    "Boolean({id:1} === {id:1})"
   ]
  },
  {
   "cell_type": "code",
   "execution_count": 51,
   "id": "f832bfcf",
   "metadata": {},
   "outputs": [],
   "source": [
    "let testObj1 = {id:1}\n",
    "let testObj2 = {id:1}\n",
    "let testObj3 = testObj1\n"
   ]
  },
  {
   "cell_type": "code",
   "execution_count": 52,
   "id": "6642b913",
   "metadata": {},
   "outputs": [
    {
     "name": "stdout",
     "output_type": "stream",
     "text": [
      "true\n",
      "false\n",
      "true\n"
     ]
    }
   ],
   "source": [
    "console.log(Boolean(testObj1 === testObj1)) // true\n",
    "console.log(Boolean(testObj1 === testObj2)) // false\n",
    "console.log(Boolean(testObj1 === testObj3)) // true"
   ]
  },
  {
   "cell_type": "markdown",
   "id": "85276a0f",
   "metadata": {},
   "source": [
    "In this case the easy way to determine if the values are the same is to compare the id values"
   ]
  },
  {
   "cell_type": "code",
   "execution_count": 53,
   "id": "94143284",
   "metadata": {},
   "outputs": [
    {
     "name": "stdout",
     "output_type": "stream",
     "text": [
      "true\n",
      "true\n",
      "true\n"
     ]
    }
   ],
   "source": [
    "console.log(Boolean(testObj1.id === testObj1.id)) // true\n",
    "console.log(Boolean(testObj1.id === testObj2.id)) // true\n",
    "console.log(Boolean(testObj1.id === testObj3.id)) // true"
   ]
  },
  {
   "cell_type": "markdown",
   "id": "f9efdcb8",
   "metadata": {},
   "source": [
    "<a id=\"emptyobj\"></a>\n",
    "\n",
    "### Checking for Empty Objects/Arrays"
   ]
  },
  {
   "cell_type": "code",
   "execution_count": 54,
   "id": "8afacd22",
   "metadata": {
    "scrolled": true
   },
   "outputs": [
    {
     "name": "stdout",
     "output_type": "stream",
     "text": [
      "an empty object returns true\n",
      "an empty list returns true\n"
     ]
    }
   ],
   "source": [
    "if({}){\n",
    "    console.log(\"an empty object returns true\")\n",
    "}\n",
    "if([]){\n",
    "    console.log(\"an empty list returns true\")\n",
    "}"
   ]
  },
  {
   "cell_type": "code",
   "execution_count": 55,
   "id": "c899219d",
   "metadata": {},
   "outputs": [
    {
     "name": "stdout",
     "output_type": "stream",
     "text": [
      "object.keys(object).length>0 returns false\n",
      "array.length>0 does returns false\n"
     ]
    }
   ],
   "source": [
    "if(Object.keys({}).length>0){\n",
    "    console.log(\"object.keys(object).length does not return true \")\n",
    "}else{\n",
    "    console.log(\"object.keys(object).length>0 returns false\")\n",
    "}\n",
    "\n",
    "\n",
    "if([].length>0){\n",
    "    console.log(\"array.length>0 does not return true\")\n",
    "}else{\n",
    "    console.log(\"array.length>0 does returns false\")\n",
    "\n",
    "}"
   ]
  },
  {
   "cell_type": "markdown",
   "id": "061f335e",
   "metadata": {},
   "source": [
    "<a id=\"loop\"></a>\n",
    "\n",
    "#### Looping over Objects"
   ]
  },
  {
   "cell_type": "markdown",
   "id": "70064320",
   "metadata": {},
   "source": [
    "In python, we have .keys .values and .items. In JS, we have .keys .values and .entries, but instead of them being instance methods on the Dictionary class (like in python), they are static methods of the Object Class (meaning they don't work on the instance but they do work on the class itself)."
   ]
  },
  {
   "cell_type": "markdown",
   "id": "3b28bdbf",
   "metadata": {},
   "source": [
    "##### .keys()"
   ]
  },
  {
   "cell_type": "code",
   "execution_count": 56,
   "id": "b27ac1f4",
   "metadata": {},
   "outputs": [
    {
     "name": "stdout",
     "output_type": "stream",
     "text": [
      "┌───────────────┬──────────────┬──────────┬───────┬────────┬────────┐\n",
      "│    (index)    │      0       │    1     │   2   │   3    │ Values │\n",
      "├───────────────┼──────────────┼──────────┼───────┼────────┼────────┤\n",
      "│     name      │              │          │       │        │ 'Max'  │\n",
      "│      age      │              │          │       │        │   31   │\n",
      "│ progLanguages │ 'JavaScript' │ 'Python' │ 'C++' │ 'Java' │        │\n",
      "│   favColor    │              │          │       │        │ 'Blue' │\n",
      "│     teams     │   [Object]   │ [Object] │       │        │        │\n",
      "└───────────────┴──────────────┴──────────┴───────┴────────┴────────┘\n"
     ]
    }
   ],
   "source": [
    "console.table(person2)"
   ]
  },
  {
   "cell_type": "code",
   "execution_count": 57,
   "id": "e7fa5b2d",
   "metadata": {},
   "outputs": [
    {
     "data": {
      "text/plain": [
       "[ 'name', 'age', 'progLanguages', 'favColor', 'teams' ]"
      ]
     },
     "execution_count": 57,
     "metadata": {},
     "output_type": "execute_result"
    }
   ],
   "source": [
    "Object.keys(person2)"
   ]
  },
  {
   "cell_type": "markdown",
   "id": "b5c56f99",
   "metadata": {},
   "source": [
    "##### .values()"
   ]
  },
  {
   "cell_type": "code",
   "execution_count": 58,
   "id": "acd9a39f",
   "metadata": {},
   "outputs": [
    {
     "name": "stdout",
     "output_type": "stream",
     "text": [
      "[\n",
      "  'Max',\n",
      "  31,\n",
      "  [ 'JavaScript', 'Python', 'C++', 'Java' ],\n",
      "  'Blue',\n",
      "  [\n",
      "    {\n",
      "      baseball: 'Chicago White Sox',\n",
      "      football: 'Chicago Bears',\n",
      "      hockey: 'Chicago Blackhawks',\n",
      "      basketball: [Array],\n",
      "      soccer: [Array]\n",
      "    },\n",
      "    {\n",
      "      baseball: 'Toronto Bluejays',\n",
      "      football: 'LA Rams',\n",
      "      basketball: 'Milwalkee Bucks',\n",
      "      soccer: [Array]\n",
      "    }\n",
      "  ]\n",
      "]\n"
     ]
    }
   ],
   "source": [
    "console.log(Object.values(person2))"
   ]
  },
  {
   "cell_type": "markdown",
   "id": "fc52a1bd",
   "metadata": {},
   "source": [
    "##### .entries()"
   ]
  },
  {
   "cell_type": "code",
   "execution_count": 59,
   "id": "ea3402ff",
   "metadata": {},
   "outputs": [
    {
     "name": "stdout",
     "output_type": "stream",
     "text": [
      "[\n",
      "  [ 'name', 'Max' ],\n",
      "  [ 'age', 31 ],\n",
      "  [ 'progLanguages', [ 'JavaScript', 'Python', 'C++', 'Java' ] ],\n",
      "  [ 'favColor', 'Blue' ],\n",
      "  [ 'teams', [ [Object], [Object] ] ]\n",
      "]\n"
     ]
    }
   ],
   "source": [
    "console.log(Object.entries(person2))"
   ]
  },
  {
   "cell_type": "markdown",
   "id": "4a381a29",
   "metadata": {},
   "source": [
    "<a id=\"tradloop\"></a>\n",
    "\n",
    "#### Traditional (ES5 and earlier) looping over Object"
   ]
  },
  {
   "cell_type": "code",
   "execution_count": 60,
   "id": "b16376dd",
   "metadata": {},
   "outputs": [
    {
     "name": "stdout",
     "output_type": "stream",
     "text": [
      "name\n",
      "Max\n",
      "Max\n",
      "age\n",
      "31\n",
      "31\n",
      "progLanguages\n",
      "[ 'JavaScript', 'Python', 'C++', 'Java' ]\n",
      "[ 'JavaScript', 'Python', 'C++', 'Java' ]\n",
      "favColor\n",
      "Blue\n",
      "Blue\n",
      "teams\n",
      "[\n",
      "  {\n",
      "    baseball: 'Chicago White Sox',\n",
      "    football: 'Chicago Bears',\n",
      "    hockey: 'Chicago Blackhawks',\n",
      "    basketball: [ 'Chicago Bulls', 'Chicago Sky' ],\n",
      "    soccer: [ 'Chicago Fire', 'Naperville Yellowjacks' ]\n",
      "  },\n",
      "  {\n",
      "    baseball: 'Toronto Bluejays',\n",
      "    football: 'LA Rams',\n",
      "    basketball: 'Milwalkee Bucks',\n",
      "    soccer: [ 'Manchester United', 'Liverpool' ]\n",
      "  }\n",
      "]\n",
      "[\n",
      "  {\n",
      "    baseball: 'Chicago White Sox',\n",
      "    football: 'Chicago Bears',\n",
      "    hockey: 'Chicago Blackhawks',\n",
      "    basketball: [ 'Chicago Bulls', 'Chicago Sky' ],\n",
      "    soccer: [ 'Chicago Fire', 'Naperville Yellowjacks' ]\n",
      "  },\n",
      "  {\n",
      "    baseball: 'Toronto Bluejays',\n",
      "    football: 'LA Rams',\n",
      "    basketball: 'Milwalkee Bucks',\n",
      "    soccer: [ 'Manchester United', 'Liverpool' ]\n",
      "  }\n",
      "]\n"
     ]
    }
   ],
   "source": [
    "for(let i=0; i<Object.keys(person2).length; i++){\n",
    "    console.log(Object.keys(person2)[i]) // keys\n",
    "    console.log(Object.values(person2)[i]) // values\n",
    "    console.log(person2[Object.keys(person2)[i]]) //values same as above\\   \n",
    "}"
   ]
  },
  {
   "cell_type": "markdown",
   "id": "7ae11556",
   "metadata": {},
   "source": [
    "<a id=\"ice3\"></a>\n",
    "\n",
    "### In Class Assignment #3"
   ]
  },
  {
   "cell_type": "markdown",
   "id": "cb15c647",
   "metadata": {},
   "source": [
    "In the cell provided, create a traditional for loop to loop over all the keys and values in the `herbie` object and log them to the console in the following format:\n",
    "\n",
    "```\n",
    "the key [key] has the value of [value]\n",
    "```"
   ]
  },
  {
   "cell_type": "code",
   "execution_count": 23,
   "id": "c6d888bd",
   "metadata": {},
   "outputs": [],
   "source": [
    "var herbie={\n",
    "    wheels:\"4\",\n",
    "    color: \"white\",\n",
    "    make: \"VW\",\n",
    "    model: \"Beetle\",\n",
    "    year: 1963,\n",
    "    number: 53\n",
    "}"
   ]
  },
  {
   "cell_type": "code",
   "execution_count": 62,
   "id": "774a9800",
   "metadata": {},
   "outputs": [],
   "source": [
    "//Solution\n",
    "\n",
    "\n",
    "\n"
   ]
  },
  {
   "cell_type": "markdown",
   "id": "b8297246",
   "metadata": {},
   "source": [
    "<a id=\"forin\"></a>\n",
    "##### For in Loop"
   ]
  },
  {
   "cell_type": "markdown",
   "id": "3da036cc",
   "metadata": {},
   "source": [
    "ES6 marked the introduction of the `for in` loop in JS unlike python which uses this to loop over lists, in JS it is used to loop over the keys of an object.\n",
    "\n",
    "<strong>Remember:</strong> In JS, to loop over a lis,t we can use the `for of` loop.\n",
    "\n",
    "syntax:\n",
    "```\n",
    "for (let placeholder in myObject){\n",
    "    //do stuff\n",
    "}\n",
    "```"
   ]
  },
  {
   "cell_type": "code",
   "execution_count": 63,
   "id": "a48ea679",
   "metadata": {
    "scrolled": true
   },
   "outputs": [
    {
     "name": "stdout",
     "output_type": "stream",
     "text": [
      "key:  name\n",
      "value:  Max\n",
      "key:  age\n",
      "value:  31\n",
      "key:  progLanguages\n",
      "value:  [ 'JavaScript', 'Python', 'C++', 'Java' ]\n",
      "key:  favColor\n",
      "value:  Blue\n",
      "key:  teams\n",
      "value:  [\n",
      "  {\n",
      "    baseball: 'Chicago White Sox',\n",
      "    football: 'Chicago Bears',\n",
      "    hockey: 'Chicago Blackhawks',\n",
      "    basketball: [ 'Chicago Bulls', 'Chicago Sky' ],\n",
      "    soccer: [ 'Chicago Fire', 'Naperville Yellowjacks' ]\n",
      "  },\n",
      "  {\n",
      "    baseball: 'Toronto Bluejays',\n",
      "    football: 'LA Rams',\n",
      "    basketball: 'Milwalkee Bucks',\n",
      "    soccer: [ 'Manchester United', 'Liverpool' ]\n",
      "  }\n",
      "]\n"
     ]
    }
   ],
   "source": [
    "for(let key in person2){\n",
    "    console.log(\"key: \", key)\n",
    "    console.log(\"value: \", person2[key])\n",
    "}        "
   ]
  },
  {
   "cell_type": "markdown",
   "id": "0502bc0d",
   "metadata": {},
   "source": [
    "<a id=\"ice4\"></a>\n",
    "### In Class Assignment #4"
   ]
  },
  {
   "cell_type": "markdown",
   "id": "508fc924",
   "metadata": {},
   "source": [
    "In the cell provided create a `for...in` loop to loop over all the keys and values in the `herbie` object and log them to the console in the following format:\n",
    "\n",
    "If the value is null use the nullish coalescence to print `\"No Value Given\"` \n",
    "\n",
    "```\n",
    "the key [key] has the value of [value]\n",
    "```"
   ]
  },
  {
   "cell_type": "code",
   "execution_count": 64,
   "id": "fcf8fced",
   "metadata": {},
   "outputs": [],
   "source": [
    "var kit={\n",
    "    wheels:\"4\",\n",
    "    color: \"black\",\n",
    "    make: \"Pontiac\",\n",
    "    model: \"Thunderbird\",\n",
    "    year: 1981,\n",
    "    number: null\n",
    "}"
   ]
  },
  {
   "cell_type": "code",
   "execution_count": 65,
   "id": "e82bb820",
   "metadata": {},
   "outputs": [],
   "source": [
    "//solution\n",
    "\n",
    "\n",
    "\n",
    "\n"
   ]
  },
  {
   "cell_type": "markdown",
   "id": "ac369328",
   "metadata": {},
   "source": [
    "### Returning from an arrow function"
   ]
  },
  {
   "cell_type": "markdown",
   "id": "b563a094",
   "metadata": {},
   "source": [
    "When returning an object literal from a one line arrow function, we have to surround the object with parentheses, otherwise JS sees the braces and assumes it is starting the code block for your arrow function."
   ]
  },
  {
   "cell_type": "code",
   "execution_count": 66,
   "id": "d775ab41",
   "metadata": {},
   "outputs": [
    {
     "name": "stdout",
     "output_type": "stream",
     "text": [
      "undefined\n"
     ]
    }
   ],
   "source": [
    "var objArrow=()=>{id:1}\n",
    "console.log(objArrow())"
   ]
  },
  {
   "cell_type": "code",
   "execution_count": 67,
   "id": "e9279b51",
   "metadata": {},
   "outputs": [
    {
     "name": "stdout",
     "output_type": "stream",
     "text": [
      "{ id: 1 }\n"
     ]
    }
   ],
   "source": [
    "var objArrow=()=>({id:1})\n",
    "console.log(objArrow())"
   ]
  },
  {
   "cell_type": "markdown",
   "id": "371f7713",
   "metadata": {},
   "source": [
    "<a id=\"this\"></a>\n",
    "### this keyword"
   ]
  },
  {
   "cell_type": "markdown",
   "id": "9fc35382",
   "metadata": {},
   "source": [
    "The `this` keyword in JS is similar to self in Python. It is a way to refer to the parent object or instance.\n",
    "\n",
    "One important thing to note is that arrow functions do not bind this to their parent."
   ]
  },
  {
   "cell_type": "code",
   "execution_count": 68,
   "id": "ef4fc287",
   "metadata": {},
   "outputs": [
    {
     "name": "stdout",
     "output_type": "stream",
     "text": [
      "Chris Rock\n",
      "undefined\n"
     ]
    }
   ],
   "source": [
    "var thisObject = {\n",
    "    firstName:\"Chris\",\n",
    "    lastName:\"Rock\",\n",
    "    fullNameRegular:function(){return this.firstName+\" \"+this.lastName},\n",
    "    fullNameArrow:()=>{this.firstName+\" \"+this.lastName}\n",
    "}\n",
    "console.log(thisObject.fullNameRegular())\n",
    "console.log(thisObject.fullNameArrow())"
   ]
  },
  {
   "cell_type": "markdown",
   "id": "bea78702",
   "metadata": {},
   "source": [
    "<a id=\"typecheck\"></a>\n",
    "### Checking the type of a variable"
   ]
  },
  {
   "cell_type": "code",
   "execution_count": 69,
   "id": "2dc69810",
   "metadata": {},
   "outputs": [],
   "source": [
    "let testArray=[1,2,3,4]"
   ]
  },
  {
   "cell_type": "code",
   "execution_count": 70,
   "id": "b4d6830c",
   "metadata": {},
   "outputs": [],
   "source": [
    "let testObj = {id:1}"
   ]
  },
  {
   "cell_type": "code",
   "execution_count": 71,
   "id": "772809fc",
   "metadata": {},
   "outputs": [
    {
     "name": "stdout",
     "output_type": "stream",
     "text": [
      "object\n",
      "true\n",
      "true\n",
      "true\n",
      "========\n",
      "true\n",
      "true\n",
      "false\n",
      "string\n",
      "========\n",
      "object\n",
      "false\n",
      "false\n",
      "true\n"
     ]
    }
   ],
   "source": [
    "console.log(typeof testArray) //object\n",
    "console.log(testArray instanceof Array) //true\n",
    "console.log(Array instanceof Object) //true\n",
    "console.log(Array.isArray(testArray)) //true\n",
    "console.log(\"========\")\n",
    "console.log(testArray instanceof Object) //true\n",
    "console.log(testObj instanceof Object)  //true\n",
    "console.log(Array.isArray(testObj)) //false\n",
    "console.log(typeof 'hello') //string\n",
    "console.log(\"========\")\n",
    "console.log(typeof {}) //object\n",
    "console.log('hello' instanceof Object) //False\n",
    "console.log(null instanceof Object) //False\n",
    "console.log({key:1} instanceof Object)  //true\n"
   ]
  },
  {
   "cell_type": "markdown",
   "id": "cdcc5a39",
   "metadata": {},
   "source": [
    "<a id=\"proto\"></a>\n",
    "## ES5 Object Prototypes"
   ]
  },
  {
   "cell_type": "markdown",
   "id": "c9b8d3d9",
   "metadata": {},
   "source": [
    "The class keyword wasn't added to JS until ES6, and replaces the functionality we are about to talk about.  You will still see alot of ES5 prototypes in the wild, so be sure to understand what they are doing.\n",
    "\n",
    "Lets build out a JS object to be reuseable."
   ]
  },
  {
   "cell_type": "markdown",
   "id": "9c39537c",
   "metadata": {},
   "source": [
    "<a id=\"new\"></a>\n",
    "\n",
    "### new keyword"
   ]
  },
  {
   "cell_type": "markdown",
   "id": "79305a8f",
   "metadata": {},
   "source": [
    "The `new` keyword will initialize an object and return it for you.  It will also allow the use of the this keyword"
   ]
  },
  {
   "cell_type": "code",
   "execution_count": 72,
   "id": "33d4df70",
   "metadata": {},
   "outputs": [
    {
     "name": "stdout",
     "output_type": "stream",
     "text": [
      "john just jumped\n"
     ]
    }
   ],
   "source": [
    "let personA=function(name, age){\n",
    "    personA.age=age\n",
    "    personA.realName=name\n",
    "    \n",
    "    personA.jump=function(){console.log(personA.realName + \" just jumped\")}\n",
    "    personA.squat =function(){console.log(personA.realName + \" just did a squat\")}\n",
    "    return personA\n",
    "}\n",
    "var myPerson=personA(\"john\", 12)\n",
    "myPerson.jump()\n",
    "\n"
   ]
  },
  {
   "cell_type": "markdown",
   "id": "108c069f",
   "metadata": {},
   "source": [
    "#### with the new keyword"
   ]
  },
  {
   "cell_type": "code",
   "execution_count": 73,
   "id": "53933409",
   "metadata": {},
   "outputs": [
    {
     "name": "stdout",
     "output_type": "stream",
     "text": [
      "john just jumped\n"
     ]
    }
   ],
   "source": [
    "let personB=function(name, age){\n",
    "    this.age=age\n",
    "    this.name=name\n",
    "    \n",
    "    this.jump=function(){console.log(this.name + \" just jumped\")}\n",
    "    this.squat =function(){console.log(this.name + \" just did a squat\")}\n",
    "}\n",
    "var myPerson=new personB(\"john\", 12)\n",
    "myPerson.jump()"
   ]
  },
  {
   "cell_type": "markdown",
   "id": "d2a13525",
   "metadata": {},
   "source": [
    "#### Why did I give the name property realName not name?"
   ]
  },
  {
   "cell_type": "markdown",
   "id": "6204c37c",
   "metadata": {},
   "source": [
    "When working with a function the name property is already assigned to the name of the function"
   ]
  },
  {
   "cell_type": "code",
   "execution_count": 74,
   "id": "ecf3fa87",
   "metadata": {},
   "outputs": [
    {
     "data": {
      "text/plain": [
       "'testFunction'"
      ]
     },
     "execution_count": 74,
     "metadata": {},
     "output_type": "execute_result"
    }
   ],
   "source": [
    "function testFunction(){\n",
    "    return\n",
    "}\n",
    "testFunction.name"
   ]
  },
  {
   "cell_type": "code",
   "execution_count": 75,
   "id": "e25d829d",
   "metadata": {},
   "outputs": [
    {
     "name": "stdout",
     "output_type": "stream",
     "text": [
      "personC\n"
     ]
    }
   ],
   "source": [
    "let personC=function(name, age){\n",
    "    personC.age=age\n",
    "    personC.name=name\n",
    "    \n",
    "    this.printName=function(){console.log(personC.name)}\n",
    "}\n",
    "\n",
    "var myPerson = new personC(\"john\",12) \n",
    "myPerson.printName()"
   ]
  },
  {
   "cell_type": "markdown",
   "id": "541ef00a",
   "metadata": {},
   "source": [
    "The above method works fine, but it has an issue. Every time I make a new person, I have to save all the person's methods to memory. We can define a prototype for all objects to share to prevent wasting memory space. These are stored in memory once, and use the this keyword to find the correct references. This saves tons of memory space, and prototypes should be used with ES5 objects when declaring many instances of the same object."
   ]
  },
  {
   "cell_type": "code",
   "execution_count": 76,
   "id": "b64eaab3",
   "metadata": {},
   "outputs": [
    {
     "name": "stdout",
     "output_type": "stream",
     "text": [
      "john just jumped\n"
     ]
    }
   ],
   "source": [
    "let personD=function(name, age){\n",
    "    this.age=age\n",
    "    this.name=name\n",
    "}\n",
    "\n",
    "personD.prototype.jump=function(){console.log(this.name + \" just jumped\")}\n",
    "personD.prototype.squat =function(){console.log(this.name + \" just did a squat\")}\n",
    "\n",
    "var myPerson=new personD(\"john\", 12)\n",
    "myPerson.jump()"
   ]
  },
  {
   "cell_type": "markdown",
   "id": "8ba41b0a",
   "metadata": {},
   "source": [
    "#### Possible but bad practice"
   ]
  },
  {
   "cell_type": "markdown",
   "id": "45212317",
   "metadata": {},
   "source": [
    "You can modify existing built in prototypes at anytime, but this is bad practice because it leads to confusion, and unforeseen side effects"
   ]
  },
  {
   "cell_type": "code",
   "execution_count": 77,
   "id": "701531c9",
   "metadata": {},
   "outputs": [
    {
     "data": {
      "text/plain": [
       "[Function (anonymous)]"
      ]
     },
     "execution_count": 77,
     "metadata": {},
     "output_type": "execute_result"
    }
   ],
   "source": [
    "String.prototype.toTitleCase=function() {\n",
    "  str = this.toLowerCase().split(' ');\n",
    "  for (var i = 0; i < str.length; i++) {\n",
    "    str[i] = str[i].charAt(0).toUpperCase() + str[i].slice(1); \n",
    "  }\n",
    "  return str.join(' ');\n",
    "}"
   ]
  },
  {
   "cell_type": "code",
   "execution_count": 78,
   "id": "e8469a45",
   "metadata": {
    "scrolled": true
   },
   "outputs": [
    {
     "data": {
      "text/plain": [
       "'Hello You Kind Human'"
      ]
     },
     "execution_count": 78,
     "metadata": {},
     "output_type": "execute_result"
    }
   ],
   "source": [
    "\"hello you kind human\".toTitleCase()"
   ]
  },
  {
   "cell_type": "markdown",
   "id": "6b7e2da8",
   "metadata": {},
   "source": [
    "<a id=\"closure\"></a>\n",
    "\n",
    "## Closures"
   ]
  },
  {
   "cell_type": "markdown",
   "id": "b2347bd9",
   "metadata": {},
   "source": [
    "JavaScript and Python both have closures.  In JS they are used more often to create private variables.  But have many uses and we will talk about stateful functions and private variables\n",
    "\n",
    "A closure in JavaScript is a function that has access to variables in its outer scope, even after the outer function has returned. The closure \"closes over\" the variables in its outer scope, keeping them accessible even after the outer function has completed. This allows for data persistence and stateful function behavior. Closures are created when a function is declared inside another function and the inner function references variables from the outer function."
   ]
  },
  {
   "cell_type": "markdown",
   "id": "fca88c6d",
   "metadata": {},
   "source": [
    "### Stateful Functions"
   ]
  },
  {
   "cell_type": "markdown",
   "id": "275ba1af",
   "metadata": {},
   "source": [
    "What we can see in this example is the inner function is incremeting the value of x that waas defined in the outer function.  The outher function is returning the unexecuted version of the inner function.\n",
    "\n",
    "when we try\n",
    "\n",
    "```\n",
    "adder=outer()\n",
    "```\n",
    "\n",
    "We are setting the variable adder to the unexecuted function inner. so adder is the inner funtion from our enclosure.\n",
    "\n",
    "then to execute that inner funcer and actually start incrementing our x value we can execute adder().\n",
    "\n",
    "<strong>Note</strong> that the value of x is maintained over multiple calls to the inner function, this is the benefit of the enclosure.\n",
    "\n"
   ]
  },
  {
   "cell_type": "code",
   "execution_count": 79,
   "id": "04de37a0",
   "metadata": {
    "scrolled": true
   },
   "outputs": [
    {
     "name": "stdout",
     "output_type": "stream",
     "text": [
      "1\n",
      "2\n",
      "3\n",
      "4\n"
     ]
    }
   ],
   "source": [
    "//simple example\n",
    "\n",
    "function outer(){\n",
    "    x = 1\n",
    "    function inner(){\n",
    "        console.log(x)\n",
    "        x++\n",
    "    }\n",
    "    return inner\n",
    "}\n",
    "\n",
    "adder=outer()\n",
    "adder()\n",
    "adder()\n",
    "adder()\n",
    "adder()"
   ]
  },
  {
   "cell_type": "markdown",
   "id": "0e641a99",
   "metadata": {},
   "source": [
    "### Closures as Private Variables"
   ]
  },
  {
   "cell_type": "markdown",
   "id": "4513f240",
   "metadata": {},
   "source": [
    "One Problem we may have seen while exploring the ES5 syntax is that you can change the variables from outside of your class.  If someone changes a variable that shouldn't be changed this could spell disaster.  TypeScript (we will learn next week) will help use greatly with this along with the ES 6 syntax for creating classes.  But what if we wanted a private variable in ES5?  Well Closures also help us with that.  We will use a self-invoking function to create the encolsure."
   ]
  },
  {
   "cell_type": "markdown",
   "id": "37e9b703",
   "metadata": {},
   "source": [
    "#### Self Invoking Function"
   ]
  },
  {
   "cell_type": "markdown",
   "id": "14cc5f44",
   "metadata": {},
   "source": [
    "A Self Invoking Function is merely a name given to a function that calls itself.  We use parathesis to wrap the function then add `(params)` to execute the function."
   ]
  },
  {
   "cell_type": "code",
   "execution_count": 80,
   "id": "caee34ad",
   "metadata": {},
   "outputs": [
    {
     "name": "stdout",
     "output_type": "stream",
     "text": [
      "hello Steve\n"
     ]
    }
   ],
   "source": [
    "(function(name){console.log(\"hello \"+name)})(\"Steve\")"
   ]
  },
  {
   "cell_type": "markdown",
   "id": "3d94c1a4",
   "metadata": {},
   "source": [
    "#### Private Variable"
   ]
  },
  {
   "cell_type": "code",
   "execution_count": 81,
   "id": "ca61744d",
   "metadata": {},
   "outputs": [
    {
     "name": "stdout",
     "output_type": "stream",
     "text": [
      "default\n",
      "John\n",
      "undefined\n"
     ]
    }
   ],
   "source": [
    "var myTest = (function () {\n",
    "    let _name = 'default';\n",
    "    getName = function () {\n",
    "        return _name;\n",
    "    }\n",
    "    setName = function (newName) {\n",
    "        _name = newName;\n",
    "    }\n",
    "\n",
    "    return {\n",
    "        getName: getName,\n",
    "        setName: setName\n",
    "    }\n",
    "    }());\n",
    "\n",
    "console.log(myTest.getName());\n",
    "myTest.setName(\"John\")\n",
    "console.log(myTest.getName());\n",
    "\n",
    "console.log(myTest._name) //undefined because you can not access the _name variable"
   ]
  },
  {
   "cell_type": "markdown",
   "id": "3f4bc649",
   "metadata": {},
   "source": [
    "<a id=\"class\"></a>\n",
    "\n",
    "## ES 6 Classes/OOP"
   ]
  },
  {
   "cell_type": "markdown",
   "id": "13dda6c6",
   "metadata": {},
   "source": [
    "In ES6, JavaScript finally added classes, allowing traditional Object Oreinted Design.\n",
    "\n",
    "\n",
    "In python we define a constructor like:\n",
    "```\n",
    "    def __init__(self, params):\n",
    "        self.param=param\n",
    "```\n",
    "In JS it would look like:\n",
    "```\n",
    "    constructor(params){\n",
    "        this.params=params\n",
    "    }\n",
    "```\n",
    "\n",
    "Like python, Class names are written in PascalCase.\n",
    "\n",
    "The keyword `new` is required when initializing an instance as it is what runs the constructor function.\n",
    "\n",
    "<strong>Note:</strong> Methods need no function keyword."
   ]
  },
  {
   "cell_type": "code",
   "execution_count": 82,
   "id": "ef9b476f",
   "metadata": {},
   "outputs": [],
   "source": [
    "class Human{\n",
    "    constructor(name, age, gender){\n",
    "        this.name=name;\n",
    "        this.age=age;\n",
    "        this.gender=gender;\n",
    "    }\n",
    "\n",
    "    returnInfo(){\n",
    "        return `Name: ${this.name} \\nAge: ${this.age} \\nGender: ${this.gender}`\n",
    "    }\n",
    "}"
   ]
  },
  {
   "cell_type": "code",
   "execution_count": 83,
   "id": "28802ac7",
   "metadata": {},
   "outputs": [
    {
     "name": "stdout",
     "output_type": "stream",
     "text": [
      "┌─────────┬──────────┐\n",
      "│ (index) │  Values  │\n",
      "├─────────┼──────────┤\n",
      "│  name   │ 'Wilma'  │\n",
      "│   age   │    25    │\n",
      "│ gender  │ 'Female' │\n",
      "└─────────┴──────────┘\n",
      "Wilma\n",
      "Name: Wilma \n",
      "Age: 25 \n",
      "Gender: Female\n"
     ]
    }
   ],
   "source": [
    "let wilma = new Human('Wilma', 25, 'Female')\n",
    "console.table(wilma)\n",
    "console.log(wilma.name)\n",
    "console.log(wilma.returnInfo())"
   ]
  },
  {
   "cell_type": "markdown",
   "id": "45f6cc44",
   "metadata": {},
   "source": [
    "<a id=\"inherit\"></a>\n",
    "\n",
    "### Inheritance "
   ]
  },
  {
   "cell_type": "markdown",
   "id": "0a087057",
   "metadata": {},
   "source": [
    "In python, to inherit (or extend) a class, we did something like `class Baby(Human)`. In JS, we use the keyword `extends` ie `class Baby extends Human`.\n",
    "\n",
    "A Parent Class is often also called a super class.\n",
    "\n",
    "In a child class the keyword super represents the parent class.  \n",
    "\n",
    "Often it is use to invoke the parent constructor.\n",
    "just like in python when we did:\n",
    "\n",
    "```\n",
    "super().__init__(params)\n",
    "```\n",
    "\n",
    "in JS this becomes\n",
    "\n",
    "```\n",
    "super(params)\n",
    "```\n",
    "\n",
    "<strong>Note:</strong> Giving the returnInfo to the baby class creates a method override, so now all the members of class Baby will now returnInfo in a new way, while members of the Human class will retain their original returnInfo method."
   ]
  },
  {
   "cell_type": "code",
   "execution_count": 84,
   "id": "a5252a61",
   "metadata": {},
   "outputs": [
    {
     "name": "stdout",
     "output_type": "stream",
     "text": [
      "┌───────────┬───────────┐\n",
      "│  (index)  │  Values   │\n",
      "├───────────┼───────────┤\n",
      "│   name    │ 'Pebbles' │\n",
      "│    age    │     1     │\n",
      "│  gender   │ 'Female'  │\n",
      "│ isWalking │   true    │\n",
      "└───────────┴───────────┘\n",
      "Baby is walkin'\n",
      "Name: Pebbles \n",
      "Age: 1 \n",
      "Gender: Female \n",
      "Walking:true\n"
     ]
    }
   ],
   "source": [
    "\n",
    "class Baby extends Human{\n",
    "    constructor(name, age, gender, isWalking){\n",
    "        super(name, age, gender)\n",
    "        this.isWalking = isWalking   \n",
    "    }\n",
    "\n",
    "    isBabyWalking(){\n",
    "        if(this.isWalking){\n",
    "            return \"Baby is walkin'\"\n",
    "        }else{\n",
    "            return \"Baby ain't walkin'\"\n",
    "        }\n",
    "    }\n",
    "\n",
    "    returnInfo(){\n",
    "        return `Name: ${this.name} \\nAge: ${this.age} \\nGender: ${this.gender} \\nWalking:${this.isWalking}`\n",
    "    }\n",
    "\n",
    "}\n",
    "\n",
    "let pebbles = new Baby('Pebbles', 1, 'Female', true);\n",
    "console.table(pebbles)\n",
    "console.log(pebbles.isBabyWalking())\n",
    "console.log(pebbles.returnInfo())\n"
   ]
  },
  {
   "cell_type": "markdown",
   "id": "9e41fcd2",
   "metadata": {},
   "source": [
    "<a id=\"super\"></a>\n",
    "\n",
    "### super keyword"
   ]
  },
  {
   "cell_type": "markdown",
   "id": "e06f22ae",
   "metadata": {},
   "source": [
    "Another use of the super keyword is to call methods from the parent class"
   ]
  },
  {
   "cell_type": "code",
   "execution_count": 85,
   "id": "35c1fd44",
   "metadata": {},
   "outputs": [
    {
     "name": "stdout",
     "output_type": "stream",
     "text": [
      "I said, ooh, I'm blinded by the lights\n",
      "No, I can't sleep until I feel your touch\n",
      "I said, ooh, I'm drowning in the night\n"
     ]
    }
   ],
   "source": [
    "class ParentClass{\n",
    "    singLine(){\n",
    "        console.log(\"No, I can't sleep until I feel your touch\")\n",
    "    }\n",
    "}\n",
    "\n",
    "class ChildClass extends ParentClass{\n",
    "    singLine(){\n",
    "        console.log(\"I said, ooh, I'm blinded by the lights\")\n",
    "        super.singLine()\n",
    "        console.log(\"I said, ooh, I'm drowning in the night\")\n",
    "    }\n",
    "}\n",
    "\n",
    "let myChild = new ChildClass()\n",
    "myChild.singLine()"
   ]
  },
  {
   "cell_type": "markdown",
   "id": "d5f30221",
   "metadata": {},
   "source": [
    "<b> In the Typescript Section of this course we will go into more detail on OOP design principals</b>"
   ]
  },
  {
   "cell_type": "markdown",
   "id": "2fbfb90f",
   "metadata": {},
   "source": [
    "<a id=\"ice5\"></a>\n",
    "\n",
    "### In Class Assignment #5"
   ]
  },
  {
   "cell_type": "markdown",
   "id": "9203e781",
   "metadata": {},
   "source": [
    "Create a Class to represent all Animals.  These animals have a name and age attributes, and they have functions that will talk and walk.\n",
    "\n",
    "Create a class that inherehits from the Animal Class called Cat and one called Dog and override the methods for talk to an appropriate method for a Cat or Dog talking and retains the method for walk."
   ]
  },
  {
   "cell_type": "code",
   "execution_count": null,
   "id": "84b74db7",
   "metadata": {},
   "outputs": [],
   "source": [
    "\n",
    "\n",
    "\n",
    "\n",
    "\n",
    "\n",
    "\n",
    "\n",
    "\n",
    "\n",
    "\n",
    "\n",
    "\n",
    "\n",
    "\n",
    "\n",
    "\n",
    "\n",
    "\n",
    "\n",
    "\n",
    "\n",
    "\n",
    "\n",
    "\n",
    "\n",
    "\n",
    "\n",
    "\n",
    "\n"
   ]
  },
  {
   "cell_type": "markdown",
   "id": "e7ce6c23",
   "metadata": {},
   "source": [
    "<a id=\"stack\"></a>\n",
    "\n",
    "## JavaScript Call Stack"
   ]
  },
  {
   "cell_type": "markdown",
   "id": "1665d4a7",
   "metadata": {},
   "source": [
    "JS uses a Call Stack to add processes to the stack that executes the process.\n",
    "The stack runs in Chrome's V8 engine, which also contains WebAPIs. Things that run asynchronously (not in the queue with other commands) are sent to the WebAPI to await their turn to be added to the stack. The stack must be cleared before the WebAPI can add the asynchronous process. This is why you often see `setTimeout()` set to a timeout of zero seconds. This is not saying to wait zero seconds and then execute this process; it is saying to wait for the stack to clear before running it.\n",
    "\n",
    "\n",
    "Recommended Video: <a href=\"https://www.youtube.com/watch?v=8aGhZQkoFbQ\">https://www.youtube.com/watch?v=8aGhZQkoFbQ</a>\n"
   ]
  },
  {
   "cell_type": "code",
   "execution_count": 86,
   "id": "4e653100",
   "metadata": {},
   "outputs": [
    {
     "name": "stdout",
     "output_type": "stream",
     "text": [
      "above timeout\n",
      "below timeout\n"
     ]
    }
   ],
   "source": [
    "\n",
    "console.log(\"above timeout\")\n",
    "setTimeout(()=>console.log(\"in the first timeout\"), 2000)\n",
    "console.log(\"below timeout\")\n"
   ]
  },
  {
   "cell_type": "code",
   "execution_count": 87,
   "id": "71a2d67e",
   "metadata": {},
   "outputs": [
    {
     "name": "stdout",
     "output_type": "stream",
     "text": [
      "above timeout\n",
      "below timeout\n"
     ]
    }
   ],
   "source": [
    "console.log(\"above timeout\")\n",
    "setTimeout(()=>console.log(\"in the first timeout\"), 0)\n",
    "console.log(\"below timeout\")"
   ]
  },
  {
   "cell_type": "markdown",
   "id": "271ffd45",
   "metadata": {},
   "source": [
    "Below the initial call stack will look like:\n",
    "\n",
    "tfunc3()\n",
    "\n",
    "tfunc2()\n",
    "\n",
    "tfunc1()\n",
    "\n",
    "This is because tfunc1 calls tfunc2 which calls tfunc3.  Then tfunc3 will execute then tfunc2 then tfunc1. Now that all those have processed, the stack is clear and the setTime will come from the WebAPIs and be ran even though it was called first.\n"
   ]
  },
  {
   "cell_type": "code",
   "execution_count": 88,
   "id": "2acd8c28",
   "metadata": {},
   "outputs": [
    {
     "name": "stdout",
     "output_type": "stream",
     "text": [
      "in the first timeout\n",
      "Hello!\n"
     ]
    }
   ],
   "source": [
    "\n",
    "\n",
    "var tfunc1=()=>{\n",
    "    tfunc2()\n",
    "}\n",
    "\n",
    "var tfunc2=()=>{\n",
    "    tfunc3()\n",
    "}\n",
    "\n",
    "var tfunc3=()=>{\n",
    "    console.log('Hello!')\n",
    "}\n",
    "\n",
    "setTimeout(()=>console.log(\"in the second timeout\"), 0)\n",
    "tfunc1()"
   ]
  },
  {
   "cell_type": "markdown",
   "id": "60b8ebdd",
   "metadata": {},
   "source": [
    "<a id=\"callback\"></a>\n",
    "\n",
    "## Callbacks"
   ]
  },
  {
   "cell_type": "markdown",
   "id": "4ed13917",
   "metadata": {},
   "source": [
    "Simply put: A Callback is a function that is to be executed after another\n",
    "    function has finished its execution - hence the name callback.\n",
    "\n",
    "   More Complex Definition: In JavaScript, functions are objects. Because of this,\n",
    "    functions can take other functions as arguments(parameters), and can return functions\n",
    "    by other functions.\n",
    "\n",
    "   Functions that do this are called \"higher - Order functions\". Any function,\n",
    "    that is passed as an argument is called a \"Callback function\".\n",
    "\n",
    "   SOOOO...why do we need them?\n",
    "\n",
    "   The reason for this is, because of the JavaScript Event Loop. In a nutshell\n",
    "    JavaScript is an event driven language so this means, that instead of waiting for \n",
    "    a response before moving on, JS will keep executing while listening for other events.\n",
    "\n"
   ]
  },
  {
   "cell_type": "code",
   "execution_count": 89,
   "id": "0deaa19e",
   "metadata": {},
   "outputs": [
    {
     "name": "stdout",
     "output_type": "stream",
     "text": [
      "in the second timeout\n",
      "starting my javascipt homework\n",
      "I have finished my Homework... Time for some beer\n"
     ]
    }
   ],
   "source": [
    "function doHomework(subject, callback){\n",
    "    console.log(`starting my ${subject} homework`)\n",
    "    callback()\n",
    "}\n",
    "\n",
    "function myCallback(){\n",
    "    console.log(\"I have finished my Homework... Time for some beer\")\n",
    "}\n",
    "\n",
    "doHomework(\"javascipt\",myCallback)\n",
    "\n",
    "\n"
   ]
  },
  {
   "cell_type": "markdown",
   "id": "6c806b92",
   "metadata": {},
   "source": [
    "\n",
    "   Thought Callbacks give us more functionality...they also introduce\n",
    "    their own problem: Callback Hell\n",
    "\n",
    "   Something that looks like this:\n",
    "   ```\n",
    "    function1( () => {\n",
    "        function2( () => {\n",
    "            function3( () => {\n",
    "                function4( () => {\n",
    "                    // Maybe do something here... 🤷🏾‍♂️\n",
    "                })\n",
    "            })\n",
    "        })\n",
    "    })\n",
    "```"
   ]
  },
  {
   "cell_type": "markdown",
   "id": "88368efe",
   "metadata": {},
   "source": [
    "<a id=\"promise\"></a>\n",
    "\n",
    "## Promises"
   ]
  },
  {
   "cell_type": "markdown",
   "id": "2a26e829",
   "metadata": {},
   "source": [
    "A Promise in JS is basically a promise that the function will do the requested action and then return that result back when it is finished.  This will run asynchronously on the WebAPIs.  \n",
    "\n",
    "Each Promise can either be fulfilled, meaning it has got the answer for you; pending meaning it hasn't finished yet, and rejected meaning something went wrong.\n",
    "\n",
    "The Promise object supports two properties: state and result.\n",
    "\n",
    "While a Promise object is \"pending\" (working), the result is undefined.\n",
    "\n",
    "When a Promise object is \"fulfilled\", the result is a value.\n",
    "\n",
    "When a Promise object is \"rejected\", the result is an error object."
   ]
  },
  {
   "cell_type": "code",
   "execution_count": 90,
   "id": "e4c7c4ff",
   "metadata": {},
   "outputs": [],
   "source": [
    "const isEvenNumber = (num) =>{\n",
    "    return new Promise((resolve, reject)=>{\n",
    "        if(num%2==0){\n",
    "            setTimeout(()=>resolve(true),2000)\n",
    "        }else{\n",
    "            reject(false)\n",
    "        }\n",
    "    })\n",
    "}"
   ]
  },
  {
   "cell_type": "markdown",
   "id": "169d8280",
   "metadata": {},
   "source": [
    "#### Still pending"
   ]
  },
  {
   "cell_type": "code",
   "execution_count": 91,
   "id": "d9f60bca",
   "metadata": {},
   "outputs": [
    {
     "name": "stdout",
     "output_type": "stream",
     "text": [
      "Promise { <pending> }\n"
     ]
    }
   ],
   "source": [
    "console.log(isEvenNumber(6))\n"
   ]
  },
  {
   "cell_type": "markdown",
   "id": "47aef0f3",
   "metadata": {},
   "source": [
    "#### Resolving the Promise"
   ]
  },
  {
   "cell_type": "markdown",
   "id": "69713ff4",
   "metadata": {},
   "source": [
    "Using a chain of callbacks and .then/.catch/.finally we can resolve the promise and recieve its output\n",
    "\n",
    "`.then((resultOfPromise)=>{do something with result})` this will resolve the promise when it becomes fulfilled.\n",
    "\n",
    "`.catch((error)=>{do something based on the error})` this will run if the promise returns an error\n",
    "\n",
    "`.finally(()=>{do something after promise has been fulfilled or rejected})`"
   ]
  },
  {
   "cell_type": "code",
   "execution_count": 113,
   "id": "79e68a69",
   "metadata": {},
   "outputs": [
    {
     "data": {
      "text/plain": [
       "Promise { <pending> }"
      ]
     },
     "execution_count": 113,
     "metadata": {},
     "output_type": "execute_result"
    },
    {
     "name": "stderr",
     "output_type": "stream",
     "text": [
      "is Even Number is false from catch\n"
     ]
    },
    {
     "name": "stdout",
     "output_type": "stream",
     "text": [
      "its done\n"
     ]
    }
   ],
   "source": [
    "isEvenNumber(7).then(\n",
    "    (result)=>{console.log(`is Even Number is ${result}`)}\n",
    ").catch((error)=>{\n",
    "    console.error(`is Even Number is ${error} from catch`)\n",
    "}).finally(()=>console.log('its done'))\n"
   ]
  },
  {
   "cell_type": "code",
   "execution_count": 93,
   "id": "8769d7f2",
   "metadata": {},
   "outputs": [
    {
     "name": "stderr",
     "output_type": "stream",
     "text": [
      "is Even Number is false from catch\n"
     ]
    },
    {
     "name": "stdout",
     "output_type": "stream",
     "text": [
      "its done\n"
     ]
    },
    {
     "data": {
      "text/plain": [
       "Promise { <pending> }"
      ]
     },
     "execution_count": 93,
     "metadata": {},
     "output_type": "execute_result"
    }
   ],
   "source": [
    "isEvenNumber(8).then(\n",
    "    (result)=>{console.log(`is Even Number is ${result}`)}\n",
    ").catch((error)=>{\n",
    "    console.error(`is Even Number is ${error} from catch`)\n",
    "}).finally(()=>console.log('its done'))\n"
   ]
  },
  {
   "cell_type": "markdown",
   "id": "3d9eb851",
   "metadata": {},
   "source": [
    "<a id=\"async\"></a>\n",
    "\n",
    "### Async Await"
   ]
  },
  {
   "cell_type": "markdown",
   "id": "1c9948c4",
   "metadata": {},
   "source": [
    "Async Await is another way to reolve your promises, that is a bit more clear than the .then.catch chain\n",
    "\n",
    "To do this we use the key word `await` in front of the promise call.\n",
    "\n",
    "Any function that is awaiting something must be labeled as `async`.\n",
    "\n",
    "You can not await something at the top level of your code"
   ]
  },
  {
   "cell_type": "code",
   "execution_count": 94,
   "id": "88127f77",
   "metadata": {},
   "outputs": [],
   "source": [
    "function slowAddition(n1,n2){\n",
    "    return new Promise((resolve, reject)=>{\n",
    "            setTimeout(()=>resolve(n1+n2), 2000)\n",
    "    })\n",
    "}\n"
   ]
  },
  {
   "cell_type": "code",
   "execution_count": 95,
   "id": "6d9a957f",
   "metadata": {},
   "outputs": [
    {
     "ename": "SyntaxError",
     "evalue": "await is only valid in async functions and the top level bodies of modules",
     "output_type": "error",
     "traceback": [
      "evalmachine.<anonymous>:2",
      "await slowAddition(base, inc)",
      "^^^^^",
      "",
      "SyntaxError: await is only valid in async functions and the top level bodies of modules",
      "    at new Script (node:vm:100:7)",
      "    at createScript (node:vm:265:10)",
      "    at Object.runInThisContext (node:vm:313:10)",
      "    at run ([eval]:1020:15)",
      "    at onRunRequest ([eval]:864:18)",
      "    at onMessage ([eval]:828:13)",
      "    at process.emit (node:events:513:28)",
      "    at emit (node:internal/child_process:937:14)",
      "    at process.processTicksAndRejections (node:internal/process/task_queues:83:21)"
     ]
    }
   ],
   "source": [
    "// Await can not be used at the top level\n",
    "await slowAddition(base, inc)\n"
   ]
  },
  {
   "cell_type": "code",
   "execution_count": 112,
   "id": "d171030d",
   "metadata": {},
   "outputs": [
    {
     "data": {
      "text/plain": [
       "Promise { <pending> }"
      ]
     },
     "execution_count": 112,
     "metadata": {},
     "output_type": "execute_result"
    },
    {
     "name": "stdout",
     "output_type": "stream",
     "text": [
      "Your new Salary is 33000\n"
     ]
    }
   ],
   "source": [
    "\n",
    "// async await\n",
    "async function increaseSalarySlowly(base, inc){\n",
    "    const newSalary = await slowAddition(base, inc)\n",
    "    console.log(`Your new Salary is ${newSalary}`)\n",
    "    return newSalary\n",
    "}\n",
    "\n",
    "\n",
    "increaseSalarySlowly(30000,3000)\n",
    "\n",
    "\n"
   ]
  },
  {
   "cell_type": "markdown",
   "id": "752cbd0c",
   "metadata": {},
   "source": [
    "#### Handling an Error"
   ]
  },
  {
   "cell_type": "code",
   "execution_count": 111,
   "id": "1f304273",
   "metadata": {},
   "outputs": [
    {
     "data": {
      "text/plain": [
       "Promise { <pending> }"
      ]
     },
     "execution_count": 111,
     "metadata": {},
     "output_type": "execute_result"
    },
    {
     "name": "stdout",
     "output_type": "stream",
     "text": [
      "Pay These People More\n"
     ]
    },
    {
     "name": "stderr",
     "output_type": "stream",
     "text": [
      "Poor Wages\n"
     ]
    }
   ],
   "source": [
    "function newSlowAddition(n1,n2){\n",
    "    return new Promise((resolve, reject)=>{\n",
    "        if (n1>10000){\n",
    "            setTimeout(()=>resolve(n1+n2), 2000)\n",
    "        }else{\n",
    "            setTimeout(()=>reject(\"Poor Wages\"), 2000)\n",
    "        }\n",
    "    })\n",
    "}\n",
    "\n",
    "// async await\n",
    "async function increaseSalarySlowly2(base, inc){\n",
    "    const newSalary = await newSlowAddition(base, inc)\n",
    "    console.log(`Your new Salary is ${newSalary}`)\n",
    "    return newSalary\n",
    "}\n",
    "\n",
    "\n",
    "increaseSalarySlowly2(1000,3000).catch(\n",
    "    (error)=>{\n",
    "        console.log(\"Pay These People More\");\n",
    "        console.error(error)\n",
    "    }\n",
    ")\n"
   ]
  },
  {
   "cell_type": "markdown",
   "id": "846ace33",
   "metadata": {},
   "source": [
    "### Async with Arrow Functions"
   ]
  },
  {
   "cell_type": "markdown",
   "id": "f023c98d",
   "metadata": {},
   "source": [
    "In arrow functions the `async` keyword goes before the parameter list\n",
    "\n",
    "\n",
    "```const arrow_func = async () =>{\n",
    "    await some```"
   ]
  },
  {
   "cell_type": "code",
   "execution_count": 110,
   "id": "bc1d898f",
   "metadata": {
    "scrolled": true
   },
   "outputs": [
    {
     "data": {
      "text/plain": [
       "Promise { <pending> }"
      ]
     },
     "execution_count": 110,
     "metadata": {},
     "output_type": "execute_result"
    },
    {
     "name": "stdout",
     "output_type": "stream",
     "text": [
      "Your new Salary is 33000\n"
     ]
    }
   ],
   "source": [
    "increaseSalarySlowly3= async (base, inc)=>{\n",
    "    const newSalary = await newSlowAddition(base, inc)\n",
    "    console.log(`Your new Salary is ${newSalary}`)\n",
    "    return newSalary\n",
    "}\n",
    "\n",
    "increaseSalarySlowly3(30000,3000)\n"
   ]
  },
  {
   "cell_type": "markdown",
   "id": "75d2f2ad",
   "metadata": {},
   "source": [
    "<a id=\"ice6\"></a>\n",
    "\n",
    "### In Class Assignment #6"
   ]
  },
  {
   "cell_type": "markdown",
   "id": "bdf055d1",
   "metadata": {},
   "source": [
    "In the 2 cells Provided resolve the `login` promise using .then/.catch and using async await (for async await create an async function) to login in `codingtemple` with the password `ctrules` be sure to handle rejection in both cases."
   ]
  },
  {
   "cell_type": "code",
   "execution_count": 99,
   "id": "9fcff3df",
   "metadata": {},
   "outputs": [],
   "source": [
    "function login(username, password){\n",
    "    return new Promise((resolve, reject)=>{\n",
    "        if (username == \"codingtemple\" && password==\"ctrules\"){\n",
    "            setTimeout(()=>resolve(\"You have logged in\"), 2000)\n",
    "        }else{\n",
    "            setTimeout(()=>reject(\"Invalid Credentials\"),2000)\n",
    "        }\n",
    "    })\n",
    "}\n"
   ]
  },
  {
   "cell_type": "code",
   "execution_count": 100,
   "id": "d2c3a6ce",
   "metadata": {},
   "outputs": [],
   "source": [
    "//.then .catch\n",
    "\n",
    "\n",
    "\n",
    "\n",
    "\n",
    "\n",
    "\n",
    "\n"
   ]
  },
  {
   "cell_type": "code",
   "execution_count": 101,
   "id": "acfe4234",
   "metadata": {},
   "outputs": [],
   "source": [
    "// async await\n",
    "\n",
    "\n",
    "\n",
    "\n",
    "\n",
    "\n",
    "\n",
    "\n"
   ]
  },
  {
   "cell_type": "markdown",
   "id": "9fca9011",
   "metadata": {},
   "source": [
    "<a id=\"hw\"></a>\n",
    "\n",
    "# Homework"
   ]
  },
  {
   "cell_type": "markdown",
   "id": "70bd1f3d",
   "metadata": {},
   "source": [
    "### Question #1"
   ]
  },
  {
   "cell_type": "markdown",
   "id": "e50cbea4",
   "metadata": {},
   "source": [
    "Use the array of shop items provided and present the the information in the following format\n",
    "\n",
    "```\n",
    "=======================================\n",
    "Name: \t Air Max 97\n",
    "Price: \t 130\n",
    "About: \t The design of the shoe is commonly thought to be inspired by the bullet trains of Japan, but the design was inspired by mountain bikes. \n",
    "Category: shoes\n",
    "=======================================\n",
    "Name: \t Adidas NMD R1\n",
    "Price: \t 128\n",
    "About: \t New-wave classics, with a timeless vintage design: men’s NMD R1 gear is the ultimate go-anywhere shoe. Vibrant styles and soft cushioning will have you gliding through life, wherever it may take you.\n",
    "Category: shoes\n",
    "=======================================\n",
    "Name: \t Gucci Oversize T-shirt with Interlocking G\n",
    "Price: \t 580\n",
    "About: \t The now recognizable oversize Gucci T-shirt continues to evolve with each new collection, the Interlocking G print is influenced by an '80s design from the archives. Streetwear continues to be a defining feature of Gucci's collections and is often juxtaposed by tailored separates.\n",
    "Category: shirts\n",
    "=======================================\n",
    "Name: \t Nike Sportswear Club\n",
    "Price: \t 18.97\n",
    "About: \t The Nike Sportswear Club T-Shirt is made with our everyday cotton fabric and a classic fit for a familiar feel right out of the bag. An embroidered Futura logo on the chest provides a signature Nike look.\n",
    "Category: shirts\n",
    "=======================================\n",
    "Name: \t Spanx Flare Jeans, Vintage Indigo\n",
    "Price: \t 148\n",
    "About: \t These 70s inspired flare jeans are the perfect wear everywhere with anything style. Designed with premium stretch denim, high-rise coverage and hidden core shaping technology, this jean puts a new twist on a retro silhouette.\n",
    "Category: pants\n",
    "=======================================\n",
    "Name: \t Bonobos Premium Stretch Jeans\n",
    "Price: \t 69\n",
    "About: \t Resilient stretch denim made incredibly soft. Yes, jeans can be unbelievably comfortable.\n",
    "Category: pants\n",
    "```"
   ]
  },
  {
   "cell_type": "code",
   "execution_count": 25,
   "id": "0083b114",
   "metadata": {},
   "outputs": [],
   "source": [
    "var shopItems=[{\n",
    "    id:1,\n",
    "    name:\"Air Max 97\",\n",
    "    price:130.00,\n",
    "    desc:\"The design of the shoe is commonly thought to be inspired by the bullet trains of Japan, but the design was inspired by mountain bikes. \",\n",
    "    category:\"shoes\"\n",
    "},{\n",
    "    id:2,\n",
    "    name:\"Adidas NMD R1\",\n",
    "    price:128,\n",
    "    desc:\"New-wave classics, with a timeless vintage design: men’s NMD R1 gear is the ultimate go-anywhere shoe. Vibrant styles and soft cushioning will have you gliding through life, wherever it may take you.\",\n",
    "    category:\"shoes\"\n",
    "},{\n",
    "    id:3,\n",
    "    name:\"Gucci Oversize T-shirt with Interlocking G\",\n",
    "    price:580,\n",
    "    desc:\"The now recognizable oversize Gucci T-shirt continues to evolve with each new collection, the Interlocking G print is influenced by an '80s design from the archives. Streetwear continues to be a defining feature of Gucci's collections and is often juxtaposed by tailored separates.\",\n",
    "    category:\"shirts\"\n",
    "},{\n",
    "    id:4,\n",
    "    name:\"Nike Sportswear Club\",\n",
    "    price:18.97,\n",
    "    desc:\"The Nike Sportswear Club T-Shirt is made with our everyday cotton fabric and a classic fit for a familiar feel right out of the bag. An embroidered Futura logo on the chest provides a signature Nike look.\",\n",
    "    category:\"shirts\"\n",
    "},{\n",
    "    id:5,\n",
    "    name:\"Spanx Flare Jeans, Vintage Indigo\",\n",
    "    price:148,\n",
    "    desc:\"These 70s inspired flare jeans are the perfect wear everywhere with anything style. Designed with premium stretch denim, high-rise coverage and hidden core shaping technology, this jean puts a new twist on a retro silhouette.\",\n",
    "    category:\"pants\"\n",
    "},{\n",
    "    id:6,\n",
    "    name:\"Bonobos Premium Stretch Jeans\",\n",
    "    price:69,\n",
    "    desc:\"Resilient stretch denim made incredibly soft. Yes, jeans can be unbelievably comfortable.\",\n",
    "    category:\"pants\"\n",
    "}]"
   ]
  },
  {
   "cell_type": "code",
   "execution_count": 28,
   "id": "82aaf889",
   "metadata": {},
   "outputs": [
    {
     "name": "stdout",
     "output_type": "stream",
     "text": [
      "ID: 1\n",
      "Name: Air Max 97\n",
      "Price: 130\n",
      "Description: The design of the shoe is commonly thought to be inspired by the bullet trains of Japan, but the design was inspired by mountain bikes. \n",
      "Category: shoes\n",
      "ID: 2\n",
      "Name: Adidas NMD R1\n",
      "Price: 128\n",
      "Description: New-wave classics, with a timeless vintage design: men’s NMD R1 gear is the ultimate go-anywhere shoe. Vibrant styles and soft cushioning will have you gliding through life, wherever it may take you.\n",
      "Category: shoes\n",
      "ID: 3\n",
      "Name: Gucci Oversize T-shirt with Interlocking G\n",
      "Price: 580\n",
      "Description: The now recognizable oversize Gucci T-shirt continues to evolve with each new collection, the Interlocking G print is influenced by an '80s design from the archives. Streetwear continues to be a defining feature of Gucci's collections and is often juxtaposed by tailored separates.\n",
      "Category: shirts\n",
      "ID: 4\n",
      "Name: Nike Sportswear Club\n",
      "Price: 18.97\n",
      "Description: The Nike Sportswear Club T-Shirt is made with our everyday cotton fabric and a classic fit for a familiar feel right out of the bag. An embroidered Futura logo on the chest provides a signature Nike look.\n",
      "Category: shirts\n",
      "ID: 5\n",
      "Name: Spanx Flare Jeans, Vintage Indigo\n",
      "Price: 148\n",
      "Description: These 70s inspired flare jeans are the perfect wear everywhere with anything style. Designed with premium stretch denim, high-rise coverage and hidden core shaping technology, this jean puts a new twist on a retro silhouette.\n",
      "Category: pants\n",
      "ID: 6\n",
      "Name: Bonobos Premium Stretch Jeans\n",
      "Price: 69\n",
      "Description: Resilient stretch denim made incredibly soft. Yes, jeans can be unbelievably comfortable.\n",
      "Category: pants\n"
     ]
    }
   ],
   "source": [
    "//Solution\n",
    "\n",
    "\n",
    "for (let i = 0; i < shopItems.length; i++) {\n",
    "  const item = shopItems[i];\n",
    "  console.log(\"ID:\", item.id);\n",
    "  console.log(\"Name:\", item.name);\n",
    "  console.log(\"Price:\", item.price);\n",
    "  console.log(\"Description:\", item.desc);\n",
    "  console.log(\"Category:\", item.category);\n",
    "}\n"
   ]
  },
  {
   "cell_type": "markdown",
   "id": "3e4e6fce",
   "metadata": {},
   "source": [
    "### Question #2"
   ]
  },
  {
   "cell_type": "markdown",
   "id": "97dba0b8",
   "metadata": {},
   "source": [
    "Write a function that parses through the below object and displays all of their\n",
    "favorite food dishes as shown:\n",
    "```\n",
    "pizza contains:\n",
    "Deep Dish\n",
    "South Side Thin Crust\n",
    "tacos contains:\n",
    "Anything not from Taco bell\n",
    "burgers contains:\n",
    "Portillos Burgers\n",
    "ice_cream contains:\n",
    "Chocolate\n",
    "Vanilla\n",
    "Oreo\n",
    "shakes contains:\n",
    "oberwise contains:\n",
    "Chocolate\n",
    "dunkin contains:\n",
    "Vanilla\n",
    "culvers contains:\n",
    "All of them\n",
    "mcDonalds contains:\n",
    "Sham-rock-shake\n",
    "cupids_candies contains:\n",
    "Chocolate Malt\n",
    "```\n",
    "<b>Note: </b> The solution should work on any object with values of strings, numbers, objects, and arrays not just this specific object\n",
    "\n",
    "<b> Hint </b> recursion and <a href=\"#typecheck\">checking types</a>"
   ]
  },
  {
   "cell_type": "code",
   "execution_count": 29,
   "id": "9a1a16ce",
   "metadata": {},
   "outputs": [],
   "source": [
    "var hwPerson = {\n",
    "    pizza:[\"Deep Dish\",\"South Side Thin Crust\"],\n",
    "    tacos:\"Anything not from Taco bell\",\n",
    "    burgers:\"Portillos Burgers\",\n",
    "    ice_cream:[\"Chocolate\",\"Vanilla\",\"Oreo\"],\n",
    "    shakes:[{\n",
    "        oberwise:\"Chocolate\",\n",
    "        dunkin:\"Vanilla\",\n",
    "        culvers:\"All of them\",\n",
    "        mcDonalds:\"Sham-rock-shake\",\n",
    "        cupids_candies:\"Chocolate Malt\"\n",
    "    }]\n",
    "}"
   ]
  },
  {
   "cell_type": "code",
   "execution_count": 39,
   "id": "846dde4c",
   "metadata": {},
   "outputs": [
    {
     "name": "stdout",
     "output_type": "stream",
     "text": [
      "pizza contains:\n",
      "Deep Dish\n",
      "South Side Thin Crust\n",
      "tacos contains:\n",
      "Anything not from Taco bell\n",
      "burgers contains:\n",
      "Portillos Burgers\n",
      "ice_cream contains:\n",
      "Chocolate\n",
      "Vanilla\n",
      "Oreo\n",
      "shakes contains:\n",
      "{\n",
      "  oberwise: 'Chocolate',\n",
      "  dunkin: 'Vanilla',\n",
      "  culvers: 'All of them',\n",
      "  mcDonalds: 'Sham-rock-shake',\n",
      "  cupids_candies: 'Chocolate Malt'\n",
      "}\n"
     ]
    }
   ],
   "source": [
    "//Solution\n",
    "\n",
    "function displayFavoriteFoods(obj) {\n",
    "  for (let key in obj) {\n",
    "    const value = obj[key];\n",
    "    console.log(`${key} contains:`);\n",
    "    if (Array.isArray(value)) {\n",
    "      for (let i = 0; i < value.length; i++) {\n",
    "        console.log(value[i]);\n",
    "      }\n",
    "    } else if (typeof value === 'object') {\n",
    "      if (Array.isArray(value[0])) {\n",
    "        for (let i = 0; i < value.length; i++) {\n",
    "          displayFavoriteFoods(value[i]);\n",
    "        }\n",
    "      } else {\n",
    "        displayFavoriteFoods(value);\n",
    "      }\n",
    "    } else {\n",
    "      console.log(`${value}`);\n",
    "    }\n",
    "  }\n",
    "}\n",
    "\n",
    "// Usage\n",
    "displayFavoriteFoods(hwPerson);\n",
    "\n",
    "\n",
    "\n",
    "\n",
    "\n",
    "\n",
    "\n",
    "\n",
    "\n",
    "\n",
    "\n",
    "\n",
    "\n",
    "\n",
    "\n",
    "\n",
    "\n",
    "\n",
    "\n",
    "\n"
   ]
  },
  {
   "cell_type": "markdown",
   "id": "fb913b65",
   "metadata": {},
   "source": [
    "### Question #3"
   ]
  },
  {
   "cell_type": "markdown",
   "id": "9c6b801b",
   "metadata": {},
   "source": [
    "\n",
    "Create a Promised based function that will check a string to determine if it's length is greater than 10.\n",
    "\n",
    "If the length is greater than 10 then resolve it and console log \"Big word\". \n",
    "\n",
    "If the length of the string is less than 10 then reject it and  console log \"Small String\""
   ]
  },
  {
   "cell_type": "code",
   "execution_count": 106,
   "id": "e392b881",
   "metadata": {},
   "outputs": [],
   "source": [
    "//Solution\n",
    "\n",
    "\n",
    "\n",
    "\n",
    "\n",
    "\n",
    "\n",
    "\n",
    "\n",
    "\n",
    "\n",
    "\n",
    "\n",
    "\n",
    "\n",
    "\n"
   ]
  },
  {
   "cell_type": "markdown",
   "id": "9babd4ad",
   "metadata": {},
   "source": [
    "### Question #4"
   ]
  },
  {
   "cell_type": "markdown",
   "id": "03642f0c",
   "metadata": {},
   "source": [
    "Create a base class of GameMember and 2 children classes of Dealer, Player\n",
    "\n",
    "both dealer and player have:\n",
    "\n",
    "hand : array of 2 numbers (1-13) ex: [5, 12] which starts with 2 random numbers\n",
    "\n",
    "hit() : ability to add  a random number [1-13] to their hand\n",
    "\n",
    "When a Dealer trys to hit he can only hit if he has his hand adds up to less than a total of 17 (so 16 and under)\n",
    "\n",
    "When a Play hits they can hit as long as their total is under 21\n",
    "\n",
    "Use the randomNumber function provided below to gernerate a random number 1-12"
   ]
  },
  {
   "cell_type": "code",
   "execution_count": 107,
   "id": "9c3b6841",
   "metadata": {},
   "outputs": [
    {
     "data": {
      "text/plain": [
       "10"
      ]
     },
     "execution_count": 107,
     "metadata": {},
     "output_type": "execute_result"
    }
   ],
   "source": [
    "let getRandomNumber = () =>Math.floor(Math.random() * 13) + 1;\n",
    "getRandomNumber()"
   ]
  },
  {
   "cell_type": "code",
   "execution_count": 108,
   "id": "a8a862dc",
   "metadata": {},
   "outputs": [
    {
     "data": {
      "text/plain": [
       "10"
      ]
     },
     "execution_count": 108,
     "metadata": {},
     "output_type": "execute_result"
    }
   ],
   "source": [
    "// This will print a different random number\n",
    "getRandomNumber()"
   ]
  },
  {
   "cell_type": "code",
   "execution_count": 109,
   "id": "1f33d5c5",
   "metadata": {},
   "outputs": [
    {
     "name": "stdout",
     "output_type": "stream",
     "text": [
      "in the first timeout\n",
      "is Even Number is true\n",
      "its done\n",
      "Your new Salary is 33000\n",
      "Pay These People More\n"
     ]
    },
    {
     "name": "stderr",
     "output_type": "stream",
     "text": [
      "Poor Wages\n"
     ]
    },
    {
     "name": "stdout",
     "output_type": "stream",
     "text": [
      "Your new Salary is 33000\n"
     ]
    }
   ],
   "source": [
    "//Solution\n",
    "\n",
    "\n",
    "\n",
    "\n",
    "\n",
    "\n",
    "\n",
    "\n",
    "\n",
    "\n"
   ]
  },
  {
   "cell_type": "code",
   "execution_count": null,
   "id": "a8f15e27",
   "metadata": {},
   "outputs": [],
   "source": [
    "\n",
    "\n",
    "\n",
    "\n",
    "\n"
   ]
  },
  {
   "cell_type": "markdown",
   "id": "1b1300a1",
   "metadata": {},
   "source": [
    "### Question #5"
   ]
  },
  {
   "cell_type": "markdown",
   "id": "1bc58007",
   "metadata": {},
   "source": [
    "Complete 3 Codewars problems using JavaScript, start with ones you have already solved in python.  Paste a link here to the 3 questions you completed\n",
    "\n",
    "1:\n",
    "\n",
    "2:\n",
    "\n",
    "3:"
   ]
  },
  {
   "cell_type": "code",
   "execution_count": 1,
   "id": "68a829af",
   "metadata": {},
   "outputs": [],
   "source": [
    "// Question 1 from CodeWars:"
   ]
  },
  {
   "cell_type": "code",
   "execution_count": 2,
   "id": "14657cc6",
   "metadata": {
    "scrolled": true
   },
   "outputs": [
    {
     "data": {
      "text/plain": [
       "15"
      ]
     },
     "execution_count": 2,
     "metadata": {},
     "output_type": "execute_result"
    }
   ],
   "source": [
    "function positiveSum(arr) {\n",
    "  let sum = 0;\n",
    "  for(let i in arr){\n",
    "    if (arr[i] > 0) {\n",
    "      sum += arr[i];\n",
    "    }\n",
    "  }\n",
    "  return sum;\n",
    "}\n",
    "\n",
    "positiveSum([1,2,3,4,5,-1,-5,0,-100])"
   ]
  },
  {
   "cell_type": "code",
   "execution_count": null,
   "id": "c7d54713",
   "metadata": {},
   "outputs": [],
   "source": [
    "// Question 2 from CodeWars"
   ]
  },
  {
   "cell_type": "code",
   "execution_count": 7,
   "id": "f92104ea",
   "metadata": {},
   "outputs": [
    {
     "name": "stdout",
     "output_type": "stream",
     "text": [
      "Adam does not play banjo\n",
      "Ringo plays banjo\n",
      "rolf plays banjo\n"
     ]
    }
   ],
   "source": [
    "function areYouPlayingBanjo(name) {\n",
    "  if (name[0] === 'r' || name[0] === 'R') {\n",
    "    return `${name} plays banjo`; \n",
    "  } else {\n",
    "    return `${name} does not play banjo`;\n",
    "  }\n",
    "}\n",
    "\n",
    "\n",
    "console.log(areYouPlayingBanjo(\"Adam\"))\n",
    "console.log(areYouPlayingBanjo(\"Ringo\"))\n",
    "console.log(areYouPlayingBanjo(\"rolf\"))"
   ]
  },
  {
   "cell_type": "code",
   "execution_count": null,
   "id": "46a4a94e",
   "metadata": {},
   "outputs": [],
   "source": [
    "// Question 3 from CodeWars"
   ]
  },
  {
   "cell_type": "code",
   "execution_count": 8,
   "id": "1ce4fcc6",
   "metadata": {},
   "outputs": [
    {
     "data": {
      "text/plain": [
       "[ 2, 4, 6, 8, 10 ]"
      ]
     },
     "execution_count": 8,
     "metadata": {},
     "output_type": "execute_result"
    }
   ],
   "source": [
    "function countBy(x, n) {\n",
    "  const result = [];\n",
    "  for (let i = 1; i <= n; i++) {\n",
    "    result.push(x * i);\n",
    "  }\n",
    "  return result;\n",
    "}\n",
    "\n",
    "countBy(2,5), [2,4,6,8,10]"
   ]
  },
  {
   "cell_type": "code",
   "execution_count": null,
   "id": "0ee280cb",
   "metadata": {},
   "outputs": [],
   "source": []
  }
 ],
 "metadata": {
  "kernelspec": {
   "display_name": "JavaScript (Node.js)",
   "language": "javascript",
   "name": "javascript"
  },
  "language_info": {
   "file_extension": ".js",
   "mimetype": "application/javascript",
   "name": "javascript",
   "version": "18.15.0"
  }
 },
 "nbformat": 4,
 "nbformat_minor": 5
}
